{
  "nbformat": 4,
  "nbformat_minor": 0,
  "metadata": {
    "kernelspec": {
      "display_name": "Python 3",
      "language": "python",
      "name": "python3"
    },
    "language_info": {
      "codemirror_mode": {
        "name": "ipython",
        "version": 3
      },
      "file_extension": ".py",
      "mimetype": "text/x-python",
      "name": "python",
      "nbconvert_exporter": "python",
      "pygments_lexer": "ipython3",
      "version": "3.8.5"
    },
    "colab": {
      "name": "neuralNet_MNIST.ipynb",
      "provenance": [],
      "collapsed_sections": [],
      "include_colab_link": true
    }
  },
  "cells": [
    {
      "cell_type": "markdown",
      "metadata": {
        "id": "view-in-github",
        "colab_type": "text"
      },
      "source": [
        "<a href=\"https://colab.research.google.com/github/yongzhiqu/IE_4495/blob/master/neuralNet_MNIST.ipynb\" target=\"_parent\"><img src=\"https://colab.research.google.com/assets/colab-badge.svg\" alt=\"Open In Colab\"/></a>"
      ]
    },
    {
      "cell_type": "code",
      "metadata": {
        "id": "i5oXmhzI0Fqa"
      },
      "source": [
        "import tensorflow as tf\n",
        "from tensorflow import keras\n",
        "import numpy as np\n",
        "import os\n",
        "from matplotlib import pyplot as plt\n",
        "from keras import models\n",
        "from keras import layers\n",
        "from keras.utils import to_categorical\n",
        "from tensorflow.keras.layers import Dense, Conv1D\n",
        "from numpy import genfromtxt\n",
        "from numpy import math\n",
        "import csv\n",
        "import time\n",
        "#from Successes import Equations\n",
        "\n",
        "# os.environ['TF_CPP_MIN_LOG_LEVEL'] = '2'\n",
        "# ============== Initialize important parameters ============================\n",
        "p_val = 0.05     # Sparsity value     ***Change in Equations!***\n",
        "epochs = 1\n",
        "batch_size = 100\n",
        "encoded_size = 20  # How many nodes in encoded layer\n",
        "lr = .008  # Learning Rate\n",
        "# ===========================================================================\n",
        "\n",
        "mnist = tf.keras.datasets.mnist\n",
        "\n",
        "(training_images, training_labels), (test_images, test_labels) = mnist.load_data()\n",
        "\n",
        "\n",
        "class DenseTranspose(keras.layers.Layer):\n",
        "    def __init__(self, dense, activation=None, **kwargs):\n",
        "        self.dense = dense\n",
        "        self.activation = keras.activations.get(activation)\n",
        "        super().__init__(**kwargs)\n",
        "    def build(self, batch_input_shape):\n",
        "        self.biases = self.add_weight(name=\"bias\", \n",
        "                                      shape=[self.dense.input_shape[-1]],\n",
        "                                      initializer=\"zeros\")\n",
        "        super().build(batch_input_shape)\n",
        "    def call(self, inputs):\n",
        "        z = tf.matmul(inputs, self.dense.weights[0],transpose_b=True)\n",
        "        return self.activation(z + self.biases)\n",
        "    \n",
        "\n",
        "# reshaping the images so they can be used better\n",
        "training_images = training_images.reshape((60000, 784))\n",
        "training_images = training_images.astype('float32') / 255\n",
        "test_images = test_images.reshape((10000, 784))\n",
        "test_images = test_images.astype('float32') / 255\n",
        "\n",
        "training_labels_cat = to_categorical(training_labels, num_classes=10)\n",
        "test_labels_cat = to_categorical(test_labels, num_classes=10)\n",
        "\n",
        "training_labels = training_labels.astype('float32')/10\n",
        "test_labels = test_labels.astype('float32')/10"
      ],
      "execution_count": 68,
      "outputs": []
    },
    {
      "cell_type": "code",
      "metadata": {
        "scrolled": true,
        "id": "GYo8bW-Tyxet",
        "colab": {
          "base_uri": "https://localhost:8080/"
        },
        "outputId": "73be2994-6c87-4e2e-c8a5-986e2c6ce817"
      },
      "source": [
        "# First way to build a model\n",
        "#sequential flow model:\n",
        "inputs = keras.Input(shape = (784,))\n",
        "\n",
        "x = inputs\n",
        "\n",
        "#Regualr neural network\n",
        "\n",
        "dense_1 = Dense(128, activation='sigmoid', input_shape=(784,))\n",
        "dense_2 = Dense(50, activation = 'sigmoid')\n",
        "dense_3 = Dense(20, activation='sigmoid')\n",
        "dense_4 = Dense(1, activation='sigmoid')\n",
        "\n",
        "x_hidden1 = dense_1(x)\n",
        "x_hidden2 = dense_2(x_hidden1)\n",
        "x_hidden3 = dense_3(x_hidden2)\n",
        "x_output = dense_4(x_hidden3)\n",
        "\n",
        "# we instantiate our model\n",
        "outputs = x_output\n",
        "\n",
        "simple_neural_net = keras.Model(inputs=inputs, outputs=outputs)\n",
        "simple_neural_net.summary()\n",
        "\n",
        "print(\"\\nTraining autoencoder\")\n",
        "simple_neural_net.compile(optimizer=keras.optimizers.Adam(lr=lr), loss = 'MSE', metrics = ['accuracy'])\n",
        "\n",
        "print(training_images.shape)\n",
        "print(training_labels.shape)\n",
        "history = simple_neural_net.fit(training_images[:60000], training_labels[:60000], epochs=epochs, batch_size=batch_size)\n",
        "\n",
        "\n",
        "\n",
        "auto_labels = simple_neural_net.predict(test_images)\n",
        "auto_labels = np.array(auto_labels, dtype='float')\n",
        "    \n"
      ],
      "execution_count": 69,
      "outputs": [
        {
          "output_type": "stream",
          "text": [
            "Model: \"model_22\"\n",
            "_________________________________________________________________\n",
            "Layer (type)                 Output Shape              Param #   \n",
            "=================================================================\n",
            "input_24 (InputLayer)        [(None, 784)]             0         \n",
            "_________________________________________________________________\n",
            "dense_121 (Dense)            (None, 128)               100480    \n",
            "_________________________________________________________________\n",
            "dense_122 (Dense)            (None, 50)                6450      \n",
            "_________________________________________________________________\n",
            "dense_123 (Dense)            (None, 20)                1020      \n",
            "_________________________________________________________________\n",
            "dense_124 (Dense)            (None, 1)                 21        \n",
            "=================================================================\n",
            "Total params: 107,971\n",
            "Trainable params: 107,971\n",
            "Non-trainable params: 0\n",
            "_________________________________________________________________\n",
            "\n",
            "Training autoencoder\n",
            "(60000, 784)\n",
            "(60000,)\n",
            "600/600 [==============================] - 3s 4ms/step - loss: 0.0277 - accuracy: 0.0945\n"
          ],
          "name": "stdout"
        }
      ]
    },
    {
      "cell_type": "code",
      "metadata": {
        "colab": {
          "base_uri": "https://localhost:8080/"
        },
        "id": "AchPcYvc9uqR",
        "outputId": "cf40fec2-fe5a-4a4c-a129-73603d8ae854"
      },
      "source": [
        "print(auto_labels[:10])\n",
        "print(auto_labels.shape)\n",
        "print(test_labels[:10])"
      ],
      "execution_count": 70,
      "outputs": [
        {
          "output_type": "stream",
          "text": [
            "[[0.70441514]\n",
            " [0.22871119]\n",
            " [0.11035672]\n",
            " [0.02653697]\n",
            " [0.42396766]\n",
            " [0.10847124]\n",
            " [0.41441792]\n",
            " [0.7900275 ]\n",
            " [0.65351117]\n",
            " [0.87733549]]\n",
            "(10000, 1)\n",
            "[0.7 0.2 0.1 0.  0.4 0.1 0.4 0.9 0.5 0.9]\n"
          ],
          "name": "stdout"
        }
      ]
    },
    {
      "cell_type": "code",
      "metadata": {
        "colab": {
          "base_uri": "https://localhost:8080/"
        },
        "id": "HahO5AWx0Bro",
        "outputId": "9b74b0d3-061a-4b09-e9a2-4cedfca74ea0"
      },
      "source": [
        "# Second way to build a model\n",
        "from keras import regularizers\n",
        "myNeuralNet = models.Sequential([\n",
        "    layers.Dense(128, activation='sigmoid', activity_regularizer=regularizers.l1(10e-6),input_shape=(784,)),\n",
        "    layers.Dense(50, activation='sigmoid'),\n",
        "    layers.Dense(10, activation='sigmoid', activity_regularizer=regularizers.l1(10e-6))])\n",
        "myNeuralNet.compile(optimizer=keras.optimizers.Adam(lr=lr), loss='mse')\n",
        "myNeuralNet.summary()\n",
        "# layers.Activation\n",
        "\n",
        "\n",
        "print(\"\\nTraining autoencoder\")\n",
        "tic1 = time.time()\n",
        "\n",
        "myNeuralNet.fit(training_images, training_labels_cat, validation_split=0.1, epochs=epochs, batch_size=batch_size)\n",
        "toc1 = time.time()\n",
        "print(toc1 - tic1) "
      ],
      "execution_count": 71,
      "outputs": [
        {
          "output_type": "stream",
          "text": [
            "Model: \"sequential_18\"\n",
            "_________________________________________________________________\n",
            "Layer (type)                 Output Shape              Param #   \n",
            "=================================================================\n",
            "dense_125 (Dense)            (None, 128)               100480    \n",
            "_________________________________________________________________\n",
            "dense_126 (Dense)            (None, 50)                6450      \n",
            "_________________________________________________________________\n",
            "dense_127 (Dense)            (None, 10)                510       \n",
            "=================================================================\n",
            "Total params: 107,440\n",
            "Trainable params: 107,440\n",
            "Non-trainable params: 0\n",
            "_________________________________________________________________\n",
            "\n",
            "Training autoencoder\n",
            "540/540 [==============================] - 3s 4ms/step - loss: 0.0595 - val_loss: 0.0083\n",
            "2.8665523529052734\n"
          ],
          "name": "stdout"
        }
      ]
    },
    {
      "cell_type": "code",
      "metadata": {
        "colab": {
          "base_uri": "https://localhost:8080/"
        },
        "id": "ekgsXtna42nz",
        "outputId": "c1813231-cb64-471b-de48-be44bb676bb2"
      },
      "source": [
        "auto_labels_cat = myNeuralNet.predict(test_images)\n",
        "for i in range(1, 20):\n",
        "    print('pred_label = ', np.argmax(auto_labels_cat[i]))\n",
        "    print('true_label = ', np.argmax(test_labels_cat[i]))"
      ],
      "execution_count": 73,
      "outputs": [
        {
          "output_type": "stream",
          "text": [
            "pred_label =  2\n",
            "true_label =  2\n",
            "pred_label =  1\n",
            "true_label =  1\n",
            "pred_label =  0\n",
            "true_label =  0\n",
            "pred_label =  4\n",
            "true_label =  4\n",
            "pred_label =  1\n",
            "true_label =  1\n",
            "pred_label =  4\n",
            "true_label =  4\n",
            "pred_label =  9\n",
            "true_label =  9\n",
            "pred_label =  5\n",
            "true_label =  5\n",
            "pred_label =  9\n",
            "true_label =  9\n",
            "pred_label =  0\n",
            "true_label =  0\n",
            "pred_label =  6\n",
            "true_label =  6\n",
            "pred_label =  9\n",
            "true_label =  9\n",
            "pred_label =  0\n",
            "true_label =  0\n",
            "pred_label =  1\n",
            "true_label =  1\n",
            "pred_label =  5\n",
            "true_label =  5\n",
            "pred_label =  9\n",
            "true_label =  9\n",
            "pred_label =  7\n",
            "true_label =  7\n",
            "pred_label =  3\n",
            "true_label =  3\n",
            "pred_label =  4\n",
            "true_label =  4\n"
          ],
          "name": "stdout"
        }
      ]
    },
    {
      "cell_type": "code",
      "metadata": {
        "colab": {
          "base_uri": "https://localhost:8080/"
        },
        "id": "Q50Y691Y28aa",
        "outputId": "12c9d3ea-162f-42d1-f455-65b944fec4d3"
      },
      "source": [
        "# Third way to build model\n",
        "\n",
        "model = keras.Sequential()\n",
        "model.add(layers.Dense(2, activation=\"relu\"))\n",
        "model.add(layers.Dense(3, activation=\"relu\"))\n",
        "model.add(layers.Dense(4))\n",
        "x = tf.ones((20, 10))\n",
        "y = model(x)\n",
        "print(\"Number of weights after calling the model:\", len(model.weights)) \n",
        "model.summary()"
      ],
      "execution_count": 74,
      "outputs": [
        {
          "output_type": "stream",
          "text": [
            "Number of weights after calling the model: 6\n",
            "Model: \"sequential_19\"\n",
            "_________________________________________________________________\n",
            "Layer (type)                 Output Shape              Param #   \n",
            "=================================================================\n",
            "dense_128 (Dense)            (20, 2)                   22        \n",
            "_________________________________________________________________\n",
            "dense_129 (Dense)            (20, 3)                   9         \n",
            "_________________________________________________________________\n",
            "dense_130 (Dense)            (20, 4)                   16        \n",
            "=================================================================\n",
            "Total params: 47\n",
            "Trainable params: 47\n",
            "Non-trainable params: 0\n",
            "_________________________________________________________________\n"
          ],
          "name": "stdout"
        }
      ]
    },
    {
      "cell_type": "code",
      "metadata": {
        "colab": {
          "base_uri": "https://localhost:8080/",
          "height": 1000
        },
        "id": "WHIyR40S8I3v",
        "outputId": "79d96a74-eaa8-4641-d513-0343803efadb"
      },
      "source": [
        "#sequential flow model:\n",
        "inputs = keras.Input(shape = (784,))\n",
        "x = inputs\n",
        "\n",
        "#Regualr autoencoder\n",
        "\n",
        "dense_1 = Dense(128, activation='sigmoid', input_shape=(784,))\n",
        "dense_2 = Dense(50, activation = 'sigmoid')\n",
        "dense_3 = Dense(20, activation='sigmoid')\n",
        "\n",
        "x_input_hidden = dense_1(x)\n",
        "x_input_embedding = dense_2(x_input_hidden)\n",
        "center_layer = dense_3(x_input_embedding)\n",
        "x_output_embedding = DenseTranspose(dense_3, activation=\"sigmoid\")(center_layer)\n",
        "x_output_hidden = DenseTranspose(dense_2, activation=\"sigmoid\")(x_output_embedding)\n",
        "x_output = DenseTranspose(dense_1, activation=\"sigmoid\")(x_output_hidden)\n",
        "\n",
        "\n",
        "# we instantiate our model\n",
        "\n",
        "outputs = x_output\n",
        "\n",
        "autoencoder = keras.Model(inputs=inputs, outputs=outputs)\n",
        "\n",
        "print(\"\\nTraining autoencoder\")\n",
        "autoencoder.compile(optimizer=keras.optimizers.Adam(lr=lr), loss = 'MSE', metrics = ['accuracy'])\n",
        "autoencoder.summary()\n",
        "\n",
        "history = autoencoder.fit(training_images[:60000], training_images[:60000], epochs=10, batch_size=batch_size)\n",
        "\n",
        "auto_image = autoencoder.predict(test_images)\n",
        "auto_image = np.array(auto_image, dtype='float')\n",
        "\n",
        "fig = plt.figure(figsize=(28, 28))\n",
        "for i in range(1, 9):\n",
        "    # Adding test images to plot\n",
        "    first_image = test_images[i+100-1]\n",
        "    first_image = np.array(first_image, dtype='float')\n",
        "    pixels = first_image.reshape((28, 28))\n",
        "    fig.add_subplot(4, 4, i)\n",
        "    plt.imshow(pixels, cmap='gray')\n",
        "\n",
        "for i in range(9, 17):\n",
        "    # Now adding autoencoder's attempt at recreating test image to the plot\n",
        "    pixels_predict = auto_image[i+100-9].reshape((28, 28))\n",
        "    fig.add_subplot(4, 4, i)\n",
        "    plt.imshow(pixels_predict, cmap='gray')\n",
        "\n",
        "print(\"Epochs: \" + str(epochs))\n",
        "print(\"Batch Size: \" + str(batch_size))\n",
        "print(\"Learning Rate: \" + str(lr))\n",
        "plt.show()"
      ],
      "execution_count": 63,
      "outputs": [
        {
          "output_type": "stream",
          "text": [
            "\n",
            "Training autoencoder\n",
            "Model: \"model_21\"\n",
            "_________________________________________________________________\n",
            "Layer (type)                 Output Shape              Param #   \n",
            "=================================================================\n",
            "input_23 (InputLayer)        [(None, 784)]             0         \n",
            "_________________________________________________________________\n",
            "dense_115 (Dense)            (None, 128)               100480    \n",
            "_________________________________________________________________\n",
            "dense_116 (Dense)            (None, 50)                6450      \n",
            "_________________________________________________________________\n",
            "dense_117 (Dense)            (None, 20)                1020      \n",
            "_________________________________________________________________\n",
            "dense_transpose_27 (DenseTra (None, 50)                1070      \n",
            "_________________________________________________________________\n",
            "dense_transpose_28 (DenseTra (None, 128)               6578      \n",
            "_________________________________________________________________\n",
            "dense_transpose_29 (DenseTra (None, 784)               101264    \n",
            "=================================================================\n",
            "Total params: 108,912\n",
            "Trainable params: 108,912\n",
            "Non-trainable params: 0\n",
            "_________________________________________________________________\n",
            "Epoch 1/10\n",
            "600/600 [==============================] - 5s 7ms/step - loss: 0.0680 - accuracy: 0.0098\n",
            "Epoch 2/10\n",
            "600/600 [==============================] - 4s 7ms/step - loss: 0.0426 - accuracy: 0.0120\n",
            "Epoch 3/10\n",
            "600/600 [==============================] - 4s 7ms/step - loss: 0.0333 - accuracy: 0.0096\n",
            "Epoch 4/10\n",
            "600/600 [==============================] - 4s 7ms/step - loss: 0.0295 - accuracy: 0.0111\n",
            "Epoch 5/10\n",
            "600/600 [==============================] - 4s 7ms/step - loss: 0.0277 - accuracy: 0.0112\n",
            "Epoch 6/10\n",
            "600/600 [==============================] - 4s 7ms/step - loss: 0.0260 - accuracy: 0.0097\n",
            "Epoch 7/10\n",
            "600/600 [==============================] - 4s 7ms/step - loss: 0.0246 - accuracy: 0.0117\n",
            "Epoch 8/10\n",
            "600/600 [==============================] - 4s 7ms/step - loss: 0.0235 - accuracy: 0.0109\n",
            "Epoch 9/10\n",
            "600/600 [==============================] - 4s 7ms/step - loss: 0.0227 - accuracy: 0.0118\n",
            "Epoch 10/10\n",
            "600/600 [==============================] - 4s 7ms/step - loss: 0.0219 - accuracy: 0.0118\n",
            "Epochs: 1\n",
            "Batch Size: 100\n",
            "Learning Rate: 0.008\n"
          ],
          "name": "stdout"
        },
        {
          "output_type": "display_data",
          "data": {
            "image/png": "[encoded data removed]",
            "text/plain": [
              "<Figure size 2016x2016 with 16 Axes>"
            ]
          },
          "metadata": {
            "tags": [],
            "needs_background": "light"
          }
        }
      ]
    }
  ]
}