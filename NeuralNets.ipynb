{
  "nbformat": 4,
  "nbformat_minor": 0,
  "metadata": {
    "colab": {
      "name": "NeuralNets.ipynb",
      "provenance": [],
      "collapsed_sections": [],
      "include_colab_link": true
    },
    "kernelspec": {
      "display_name": "Python 3",
      "language": "python",
      "name": "python3"
    },
    "language_info": {
      "codemirror_mode": {
        "name": "ipython",
        "version": 3
      },
      "file_extension": ".py",
      "mimetype": "text/x-python",
      "name": "python",
      "nbconvert_exporter": "python",
      "pygments_lexer": "ipython3",
      "version": "3.6.10"
    }
  },
  "cells": [
    {
      "cell_type": "markdown",
      "metadata": {
        "id": "view-in-github",
        "colab_type": "text"
      },
      "source": [
        "<a href=\"https://colab.research.google.com/github/yongzhiqu/IE_4495/blob/master/NeuralNets.ipynb\" target=\"_parent\"><img src=\"https://colab.research.google.com/assets/colab-badge.svg\" alt=\"Open In Colab\"/></a>"
      ]
    },
    {
      "cell_type": "code",
      "metadata": {
        "id": "rOlZT6pl32Kz"
      },
      "source": [
        "# implementation of a neural network\n",
        "import numpy as np"
      ],
      "execution_count": null,
      "outputs": []
    },
    {
      "cell_type": "code",
      "metadata": {
        "id": "_SDGshrV4H_l"
      },
      "source": [
        "def generateNeuralNet(shape):\n",
        "    neuralNet = []\n",
        "    for i in range(len(shape)-1):\n",
        "        #neuralNet.append(np.random.random((shape[i+1],shape[i])))\n",
        "        neuralNet.append(np.random.random((shape[i+1],shape[i]+1))*2-1)\n",
        "    return neuralNet"
      ],
      "execution_count": null,
      "outputs": []
    },
    {
      "cell_type": "code",
      "metadata": {
        "id": "c9kFrI0q7oQd"
      },
      "source": [
        "# now do feedforward for the neural network we just created\n",
        "def applyneuralNet(neuralNet, input):\n",
        "    values = []\n",
        "    values.append(input)\n",
        "    for i in range(len(neuralNet)):\n",
        "        z = neuralNet[i]@np.append(values[i],1)\n",
        "        activation = 1/(1 + np.exp(-z)) \n",
        "        values.append(activation)\n",
        "    return values"
      ],
      "execution_count": null,
      "outputs": []
    },
    {
      "cell_type": "code",
      "metadata": {
        "colab": {
          "base_uri": "https://localhost:8080/"
        },
        "id": "lCLIFHyY6HXK",
        "outputId": "5b91e3a8-0f07-4227-c8c6-4723c1699970"
      },
      "source": [
        "# test function generateNeuralNet()\n",
        "my_net = generateNeuralNet([10,5,2])\n",
        "print(my_net)\n",
        "for l in my_net:\n",
        "    print(l.shape)"
      ],
      "execution_count": null,
      "outputs": [
        {
          "output_type": "stream",
          "text": [
            "[array([[-0.32154236, -0.45519893, -0.05429296, -0.09670735,  0.29635526,\n",
            "        -0.06146309, -0.11826986, -0.653065  , -0.01030405, -0.55065741,\n",
            "         0.92007818],\n",
            "       [-0.48730175, -0.18584659,  0.27479702,  0.65062861, -0.47558274,\n",
            "         0.35987466,  0.17053307,  0.56535568, -0.19743629, -0.24391878,\n",
            "         0.82995726],\n",
            "       [-0.87772491,  0.413441  ,  0.32191768,  0.04904481,  0.55272443,\n",
            "         0.90334426,  0.39606199,  0.77657655,  0.02235523, -0.9874387 ,\n",
            "        -0.99595318],\n",
            "       [ 0.52823493,  0.51617766, -0.00330487,  0.2226916 ,  0.46341701,\n",
            "         0.24579342, -0.50826274,  0.58854999,  0.24105374,  0.27418079,\n",
            "         0.18098135],\n",
            "       [-0.25393254,  0.16368403, -0.00306888, -0.56129922, -0.29750659,\n",
            "         0.80752367,  0.80793826, -0.77636417, -0.58393246,  0.17169916,\n",
            "        -0.75991965]]), array([[ 0.48699387,  0.84477231,  0.72844823,  0.83397598, -0.46959895,\n",
            "        -0.95834555],\n",
            "       [ 0.72440178, -0.63488553,  0.3799339 ,  0.94866791, -0.52226596,\n",
            "        -0.14185472]])]\n",
            "(5, 11)\n",
            "(2, 6)\n"
          ],
          "name": "stdout"
        }
      ]
    },
    {
      "cell_type": "code",
      "metadata": {
        "id": "-Ax-G0Lf9Di0"
      },
      "source": [
        "# test feedforward for neural network\n",
        "\n",
        "my_shape = [10,6,3,10]\n",
        "my_net = generateNeuralNet(my_shape)"
      ],
      "execution_count": null,
      "outputs": []
    },
    {
      "cell_type": "code",
      "metadata": {
        "id": "WHqhD3GwO4IH"
      },
      "source": [
        "import random\n",
        "test_input = np.array([random.randrange(0, 9) for p in range(0, 10)])"
      ],
      "execution_count": null,
      "outputs": []
    },
    {
      "cell_type": "code",
      "metadata": {
        "colab": {
          "base_uri": "https://localhost:8080/"
        },
        "id": "GKLbIVJbO7LM",
        "outputId": "1934723f-8c3a-4748-b870-1e97d3048f63"
      },
      "source": [
        "my_networks_value = applyneuralNet(my_net, test_input)\n",
        "print(my_networks_value)\n",
        "for l in my_networks_value:\n",
        "    print(l.shape)\n"
      ],
      "execution_count": null,
      "outputs": [
        {
          "output_type": "stream",
          "text": [
            "[array([7, 0, 1, 2, 8, 1, 6, 6, 4, 4]), array([6.13332000e-02, 4.65083973e-01, 4.08838380e-04, 9.91120293e-01,\n",
            "       4.56510297e-03, 5.08116316e-04]), array([0.14428474, 0.20000254, 0.57049631]), array([0.42248359, 0.4812433 , 0.54193189, 0.66147514, 0.38356025,\n",
            "       0.56749419, 0.46811888, 0.29505691, 0.55109389, 0.45551387])]\n",
            "(10,)\n",
            "(6,)\n",
            "(3,)\n",
            "(10,)\n"
          ],
          "name": "stdout"
        }
      ]
    },
    {
      "cell_type": "code",
      "metadata": {
        "id": "cAVkrvSoQ4y_"
      },
      "source": [
        "def trainNeuralNet(neuralNet, input, output, iterations):\n",
        "    learningrate = 0.008\n",
        "    theta = 10e-4\n",
        "    total_error = np.inf\n",
        "\n",
        "    for i in range(iterations):\n",
        "\n",
        "        if total_error < theta:\n",
        "           break\n",
        "\n",
        "        values = applyneuralNet(neuralNet, input)\n",
        "        total_error = np.mean(np.abs(values[-1] - output))\n",
        "        error = values[-1] - output\n",
        "\n",
        "        # if i % 500 == 0:\n",
        "        #     print('total_error at', i, ' = ',  total_error)\n",
        "\n",
        "        for j in range(len(neuralNet)-1,-1,-1):\n",
        "            layerout = values[j+1]\n",
        "            layerin = values[j]\n",
        "            delta = (layerout * (1 - layerout)) * error\n",
        "\n",
        "            shape_j = np.shape(neuralNet[j])\n",
        "            error = (neuralNet[j][:,:shape_j[1]-1]).transpose() @ delta\n",
        "\n",
        "            delta_reshape = delta.reshape(shape_j[0],1)\n",
        "            layerin_reshape = layerin.reshape(shape_j[1]-1,1)\n",
        "\n",
        "            neuralNet[j][:,:shape_j[1]-1] = neuralNet[j][:,:shape_j[1]-1] - (learningrate * delta_reshape@(layerin_reshape.transpose())) # r by 1 * 1 * k = r*k\n",
        "            neuralNet[j][:,-1] = neuralNet[j][:,-1] - (learningrate * delta).transpose()\n",
        "\n",
        "    return neuralNet\n",
        "\n",
        "\n"
      ],
      "execution_count": null,
      "outputs": []
    },
    {
      "cell_type": "code",
      "metadata": {
        "id": "DKOve_8N0EGW"
      },
      "source": [
        "my_shape = [100,50,10,3]\n",
        "my_net = generateNeuralNet(my_shape)\n",
        "test_input = np.array([random.randrange(0, 9) for p in range(0, 100)])\n",
        "test_out = np.array([0.05,0.3,0.95])\n"
      ],
      "execution_count": null,
      "outputs": []
    },
    {
      "cell_type": "code",
      "metadata": {
        "colab": {
          "base_uri": "https://localhost:8080/"
        },
        "id": "g3-FJaDe2c3N",
        "outputId": "65f1e15e-3c2f-498f-956b-7ac3f23f50bb"
      },
      "source": [
        "print(my_net[-1])\n",
        "my_trained_Net = trainNeuralNet(my_net, test_input, test_out, 10000)\n",
        "\n",
        "my_value = applyneuralNet(my_trained_Net, test_input)\n",
        "print(my_value[-1])"
      ],
      "execution_count": null,
      "outputs": [
        {
          "output_type": "stream",
          "text": [
            "[[ 0.73973536  0.31219782 -0.41138487  0.99625226 -0.00874047 -0.49381641\n",
            "   0.38001979  0.06212692 -0.91311681 -0.76115749 -0.92005806]\n",
            " [-0.58172691 -0.60485126 -0.13380878 -0.16027837 -0.74235796 -0.55934643\n",
            "  -0.90607362 -0.49881734 -0.63158485  0.38602768  0.30861179]\n",
            " [-0.14280592  0.80018462 -0.60095961 -0.84863166 -0.19845346  0.84812621\n",
            "  -0.44430209 -0.49290663  0.54386071  0.64870423 -0.05103351]]\n",
            "[0.05537491 0.30018966 0.94300822]\n"
          ],
          "name": "stdout"
        }
      ]
    },
    {
      "cell_type": "code",
      "metadata": {
        "id": "SFg-f26w_SsE",
        "outputId": "6a25b789-2132-4f83-f1f3-55892d38f294"
      },
      "source": [
        "import tensorflow as tf\n",
        "from tensorflow import keras\n",
        "import numpy as np\n",
        "import os\n",
        "from matplotlib import pyplot as plt\n",
        "\n",
        "mnist = tf.keras.datasets.mnist\n",
        "\n",
        "(training_images, training_labels), (test_images, test_labels) = mnist.load_data()"
      ],
      "execution_count": null,
      "outputs": [
        {
          "output_type": "stream",
          "text": [
            "Downloading data from https://storage.googleapis.com/tensorflow/tf-keras-datasets/mnist.npz\n",
            "11493376/11490434 [==============================] - 1s 0us/step\n"
          ],
          "name": "stdout"
        }
      ]
    },
    {
      "cell_type": "code",
      "metadata": {
        "id": "a6j9EF8nxqrb"
      },
      "source": [
        "N=5000\n",
        "trainingData_N = training_images[:N]\n",
        "traininglabel_N = training_labels[:N]"
      ],
      "execution_count": null,
      "outputs": []
    },
    {
      "cell_type": "code",
      "metadata": {
        "id": "NGHatyOCKGDL"
      },
      "source": [
        "def normalize(data):\n",
        "    return (data-np.min(data))/(np.max(data)-np.min(data))"
      ],
      "execution_count": null,
      "outputs": []
    },
    {
      "cell_type": "code",
      "metadata": {
        "id": "9bT0APl-yB9T"
      },
      "source": [
        "trainingData_N = trainingData_N.reshape(N,784)\n",
        "#traininglabel_N = traininglabel_2000/10.0\n",
        "\n",
        "trainingData_N = normalize(trainingData_N)\n",
        "traininglabel_N = normalize(traininglabel_N)\n"
      ],
      "execution_count": null,
      "outputs": []
    },
    {
      "cell_type": "code",
      "metadata": {
        "colab": {
          "base_uri": "https://localhost:8080/"
        },
        "id": "PDjHBwT9x8Ux",
        "outputId": "240c8bc5-fea9-450c-cf19-3b28bbb6eccb"
      },
      "source": [
        "my_shape = [784, 64, 10, 1]\n",
        "MNIST_net = generateNeuralNet(my_shape)\n",
        "N=30\n",
        "\n",
        "print(traininglabel_N[:20])\n",
        "\n",
        "epoch = 1\n",
        "for k in range(epoch):\n",
        "    for i in range(N):\n",
        "        MNIST_net = trainNeuralNet(MNIST_net, trainingData_N[i], traininglabel_N[i], 1000)\n"
      ],
      "execution_count": null,
      "outputs": [
        {
          "output_type": "stream",
          "text": [
            "[0.55555556 0.         0.44444444 0.11111111 1.         0.22222222\n",
            " 0.11111111 0.33333333 0.11111111 0.44444444 0.33333333 0.55555556\n",
            " 0.33333333 0.66666667 0.11111111 0.77777778 0.22222222 0.88888889\n",
            " 0.66666667 1.        ]\n"
          ],
          "name": "stdout"
        }
      ]
    },
    {
      "cell_type": "code",
      "metadata": {
        "colab": {
          "base_uri": "https://localhost:8080/"
        },
        "id": "xIfXWFEruT_k",
        "outputId": "70bde905-b05e-469a-f4ca-6598483be62f"
      },
      "source": [
        "n=30\n",
        "pred_output = np.ones([n,1])\n",
        "\n",
        "MNIST_value = []\n",
        "for j in range(n):\n",
        "    MNIST_value.append(applyneuralNet(MNIST_net, trainingData_N[j]))\n",
        "    pred_output[j] = MNIST_value[j][-1]\n",
        "\n",
        "print(traininglabel_N[:20])\n",
        "print(pred_output)"
      ],
      "execution_count": null,
      "outputs": [
        {
          "output_type": "stream",
          "text": [
            "[0.55555556 0.         0.44444444 0.11111111 1.         0.22222222\n",
            " 0.11111111 0.33333333 0.11111111 0.44444444 0.33333333 0.55555556\n",
            " 0.33333333 0.66666667 0.11111111 0.77777778 0.22222222 0.88888889\n",
            " 0.66666667 1.        ]\n",
            "[[0.56281835]\n",
            " [0.03957021]\n",
            " [0.47758143]\n",
            " [0.14153045]\n",
            " [0.96284956]\n",
            " [0.2304001 ]\n",
            " [0.09658857]\n",
            " [0.29283706]\n",
            " [0.07963159]\n",
            " [0.3868876 ]\n",
            " [0.28862249]\n",
            " [0.52846298]\n",
            " [0.33801448]\n",
            " [0.68777435]\n",
            " [0.14718587]\n",
            " [0.84742237]\n",
            " [0.32264397]\n",
            " [0.94087107]\n",
            " [0.78705119]\n",
            " [0.95535151]\n",
            " [0.56623538]\n",
            " [0.03091481]\n",
            " [0.94846547]\n",
            " [0.10781385]\n",
            " [0.10929214]\n",
            " [0.22729313]\n",
            " [0.44960549]\n",
            " [0.33542483]\n",
            " [0.21967147]\n",
            " [0.7787688 ]]\n"
          ],
          "name": "stdout"
        }
      ]
    },
    {
      "cell_type": "code",
      "metadata": {
        "id": "ipXkgJDLj26o",
        "outputId": "bd55bd17-a58f-49c9-d260-608a384e4b68"
      },
      "source": [
        "my_shape = [784,128,1]\n",
        "MNIST_net = generateNeuralNet(my_shape)\n",
        "N=2000\n",
        "\n",
        "print(traininglabel_N[:20])\n",
        "\n",
        "epoch = 5\n",
        "for k in range(epoch):\n",
        "    for i in range(N):\n",
        "        MNIST_net = trainNeuralNet(MNIST_net, trainingData_N[i], traininglabel_N[i], 1000)"
      ],
      "execution_count": null,
      "outputs": [
        {
          "output_type": "stream",
          "text": [
            "[0.55555556 0.         0.44444444 0.11111111 1.         0.22222222\n",
            " 0.11111111 0.33333333 0.11111111 0.44444444 0.33333333 0.55555556\n",
            " 0.33333333 0.66666667 0.11111111 0.77777778 0.22222222 0.88888889\n",
            " 0.66666667 1.        ]\n"
          ],
          "name": "stdout"
        }
      ]
    },
    {
      "cell_type": "code",
      "metadata": {
        "id": "gUXEZ7DZlRVo"
      },
      "source": [
        "n=50\n",
        "pred_output = np.ones([n,1])\n",
        "\n",
        "MNIST_value = []\n",
        "for j in range(n):\n",
        "    MNIST_value.append(applyneuralNet(MNIST_net, trainingData_N[j]))\n",
        "    pred_output[j] = MNIST_value[j][-1]\n",
        "\n",
        "print(traininglabel_N[:20])\n",
        "print(pred_output)"
      ],
      "execution_count": null,
      "outputs": []
    },
    {
      "cell_type": "code",
      "metadata": {
        "id": "_f7YH8vAz3oX"
      },
      "source": [
        "n=2000\n",
        "testing_imageN = training_images[10000:10000+n]\n",
        "testing_imageN = normalize(testing_imageN)\n",
        "testing_imageN = testing_imageN.reshape(n,784)\n",
        "testing_labelN = training_labels[10000:10000+n]\n",
        "\n",
        "pred_output = np.ones([n,1])\n",
        "MNIST_value = []\n",
        "for j in range(n):\n",
        "    MNIST_value.append(applyneuralNet(MNIST_net, testing_imageN[j]))\n",
        "    pred_output[j] = MNIST_value[j][-1]\n",
        "\n",
        "print(pred_output)\n",
        "\n",
        "pred_output_10 = np.round(pred_output*10)\n",
        "error = pred_output_10 - testing_labelN\n",
        "\n",
        "print(error[:100])"
      ],
      "execution_count": null,
      "outputs": []
    },
    {
      "cell_type": "code",
      "metadata": {
        "id": "SExG8Z3Jj26r"
      },
      "source": [
        ""
      ],
      "execution_count": null,
      "outputs": []
    }
  ]
}