{
  "nbformat": 4,
  "nbformat_minor": 0,
  "metadata": {
    "colab": {
      "name": "NeuralNets_part_1.ipynb",
      "provenance": [],
      "collapsed_sections": [],
      "authorship_tag": "ABX9TyP5qLfUhgUwZeXItWihyPUM",
      "include_colab_link": true
    },
    "kernelspec": {
      "name": "python3",
      "display_name": "Python 3"
    }
  },
  "cells": [
    {
      "cell_type": "markdown",
      "metadata": {
        "id": "view-in-github",
        "colab_type": "text"
      },
      "source": [
        "<a href=\"https://colab.research.google.com/github/yongzhiqu/IE_4495/blob/master/NeuralNets_part_1.ipynb\" target=\"_parent\"><img src=\"https://colab.research.google.com/assets/colab-badge.svg\" alt=\"Open In Colab\"/></a>"
      ]
    },
    {
      "cell_type": "code",
      "metadata": {
        "id": "rOlZT6pl32Kz"
      },
      "source": [
        "# implementation of a neural network\n",
        "import numpy as np"
      ],
      "execution_count": 2,
      "outputs": []
    },
    {
      "cell_type": "code",
      "metadata": {
        "id": "_SDGshrV4H_l"
      },
      "source": [
        "def generateNeuralNet(shape):\n",
        "    neuralNet = []\n",
        "    for i in range(len(shape)-1):\n",
        "        #neuralNet.append(np.random.random((shape[i+1],shape[i]))) initialize between 0 - 1\n",
        "        neuralNet.append(np.random.random((shape[i+1],shape[i]+1))*2-1)\n",
        "    return neuralNet"
      ],
      "execution_count": 3,
      "outputs": []
    },
    {
      "cell_type": "code",
      "metadata": {
        "id": "c9kFrI0q7oQd"
      },
      "source": [
        "# now do feedforward for the neural network we just created\n",
        "def applyneuralNet(neuralNet, input):\n",
        "    values = []\n",
        "    values.append(input)\n",
        "    for i in range(len(neuralNet)):\n",
        "        z = neuralNet[i]@np.append(values[i],1)\n",
        "        activation = 1/(1 + np.exp(-z)) \n",
        "        values.append(activation)\n",
        "    return values"
      ],
      "execution_count": 47,
      "outputs": []
    },
    {
      "cell_type": "code",
      "metadata": {
        "colab": {
          "base_uri": "https://localhost:8080/"
        },
        "id": "lCLIFHyY6HXK",
        "outputId": "db5ba158-806e-4856-8679-50cff8edcd7e"
      },
      "source": [
        "# test function generateNeuralNet()\n",
        "my_net = generateNeuralNet([10,5,2])\n",
        "print(my_net)"
      ],
      "execution_count": 48,
      "outputs": [
        {
          "output_type": "stream",
          "text": [
            "[array([[ 0.60740325, -0.61473441, -0.82557191,  0.40975048, -0.83015878,\n",
            "         0.8864115 ,  0.60400729, -0.21453435, -0.73529863,  0.2584547 ,\n",
            "         0.66596494],\n",
            "       [ 0.27088473, -0.35856026, -0.24158018, -0.65544124,  0.25653692,\n",
            "        -0.92987353,  0.73735635, -0.04093983,  0.0157272 ,  0.24499819,\n",
            "         0.81902698],\n",
            "       [ 0.17302882,  0.54888834, -0.90139876,  0.17635721, -0.45126817,\n",
            "         0.24230493,  0.01882814, -0.16340277,  0.04419074, -0.76055253,\n",
            "         0.74863254],\n",
            "       [-0.36757906,  0.61680192,  0.76042425, -0.59137995,  0.63564455,\n",
            "         0.87182183, -0.37052683,  0.22148705,  0.4393365 , -0.82228557,\n",
            "         0.63008046],\n",
            "       [ 0.9334757 , -0.95972511,  0.59650041, -0.63340889,  0.98891591,\n",
            "        -0.2707814 , -0.09746974, -0.3051103 , -0.32623537, -0.98637947,\n",
            "         0.57700611]]), array([[ 0.49004577,  0.78013212,  0.42085048,  0.81877087, -0.48469978,\n",
            "        -0.57712715],\n",
            "       [ 0.11893337,  0.12717976, -0.44152951,  0.08514797, -0.92152342,\n",
            "         0.07081701]])]\n"
          ],
          "name": "stdout"
        }
      ]
    },
    {
      "cell_type": "code",
      "metadata": {
        "colab": {
          "base_uri": "https://localhost:8080/"
        },
        "id": "NuhRfdvNAdzZ",
        "outputId": "5a9eae1e-7998-4188-8526-d2ad29bc3a93"
      },
      "source": [
        "# this is only showing you how the applyneuralNet() function works step in step internally\n",
        "\n",
        "import random\n",
        "my_net_test = generateNeuralNet([10,6,3,1])\n",
        "\n",
        "test_input = np.array([random.randrange(0, 9) for p in range(0, 10)])\n",
        "print(test_input)\n",
        "test_input = np.array(test_input)\n",
        "z1 = my_net_test[0]@np.append(test_input,1)\n",
        "layer1 = 1/(1 + np.exp(-z1)) \n",
        "z2 = my_net_test[1]@np.append(layer1,1)\n",
        "layer2 = 1/(1 + np.exp(-z2)) \n",
        "z3 = my_net_test[2]@np.append(layer2,1)\n",
        "layer3 = 1/(1 + np.exp(-z3)) \n",
        "print(z1)\n",
        "print(layer1)\n",
        "print(z2)\n",
        "print(layer2)\n",
        "print(z3)\n",
        "print(layer3)"
      ],
      "execution_count": 57,
      "outputs": [
        {
          "output_type": "stream",
          "text": [
            "[0 1 3 8 3 0 1 2 4 1]\n",
            "[-12.95965731  -4.23989821  -8.93943947   5.52270172   2.4828987\n",
            "  -1.09188816]\n",
            "[2.35337601e-06 1.42043866e-02 1.31097325e-04 9.96020857e-01\n",
            " 9.22934226e-01 2.51262892e-01]\n",
            "[ 0.44581504  0.17430603 -0.08068878]\n",
            "[0.60964376 0.54346651 0.47983874]\n",
            "[-0.60730717]\n",
            "[0.35267371]\n"
          ],
          "name": "stdout"
        }
      ]
    },
    {
      "cell_type": "code",
      "metadata": {
        "id": "-Ax-G0Lf9Di0"
      },
      "source": [
        "# test feedforward for neural network\n",
        "\n",
        "my_shape = [10,6,4,3,10]\n",
        "my_net = generateNeuralNet(my_shape)"
      ],
      "execution_count": 50,
      "outputs": []
    },
    {
      "cell_type": "code",
      "metadata": {
        "id": "WHqhD3GwO4IH"
      },
      "source": [
        "test_input = np.array([random.randrange(0, 9) for p in range(0, 10)])"
      ],
      "execution_count": 51,
      "outputs": []
    },
    {
      "cell_type": "code",
      "metadata": {
        "colab": {
          "base_uri": "https://localhost:8080/"
        },
        "id": "GKLbIVJbO7LM",
        "outputId": "5a7ab072-95b9-495b-bc7b-1fa542244377"
      },
      "source": [
        "my_networks_value = applyneuralNet(my_net, test_input)\n",
        "print(my_networks_value)"
      ],
      "execution_count": 56,
      "outputs": [
        {
          "output_type": "stream",
          "text": [
            "[array([0, 1, 2, 5, 8, 3, 4, 5, 7, 2]), array([9.99999998e-01, 2.92525009e-05, 7.45664936e-01, 6.44880002e-03,\n",
            "       7.36231016e-03, 9.96157396e-01]), array([0.29817217, 0.16908022, 0.5440601 , 0.7889794 ]), array([0.38928653, 0.5795319 , 0.6212031 ]), array([0.71524129, 0.46784546, 0.56675524, 0.52088482, 0.53990595,\n",
            "       0.26844932, 0.24469438, 0.72610833, 0.33712138, 0.34657764])]\n"
          ],
          "name": "stdout"
        }
      ]
    }
  ]
}