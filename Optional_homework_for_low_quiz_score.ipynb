{
  "nbformat": 4,
  "nbformat_minor": 0,
  "metadata": {
    "colab": {
      "name": "Optional_homework_for_low_quiz_score.ipynb",
      "provenance": [],
      "collapsed_sections": [],
      "authorship_tag": "ABX9TyND4OeFJLXN8smG86CPsYcs",
      "include_colab_link": true
    },
    "kernelspec": {
      "name": "python3",
      "display_name": "Python 3"
    },
    "language_info": {
      "name": "python"
    }
  },
  "cells": [
    {
      "cell_type": "markdown",
      "metadata": {
        "id": "view-in-github",
        "colab_type": "text"
      },
      "source": [
        "<a href=\"https://colab.research.google.com/github/yongzhiqu/IE_4495/blob/master/Optional_homework_for_low_quiz_score.ipynb\" target=\"_parent\"><img src=\"https://colab.research.google.com/assets/colab-badge.svg\" alt=\"Open In Colab\"/></a>"
      ]
    },
    {
      "cell_type": "code",
      "metadata": {
        "id": "dGdr8bNVGnGa"
      },
      "source": [
        "import numpy as np"
      ],
      "execution_count": 2,
      "outputs": []
    },
    {
      "cell_type": "code",
      "metadata": {
        "colab": {
          "base_uri": "https://localhost:8080/",
          "height": 152
        },
        "id": "oerWVS8Y-pN0",
        "outputId": "94fa7cc3-9aa4-4cd1-811f-4c3d78dfd2eb"
      },
      "source": [
        "# python practice\n",
        "\n",
        "# 1. you are given a list of numbers, could you write a function to find whether a number appeared in the list:\n",
        "# for example given [1,2,4,7,9.5,10], could you determin whether 3 is in the list or not\n",
        "# If yes, return true, if not return false\n",
        "# PLEASE FILL IN THE FOLLOWING FUNCTION TO ACCOMPLISH THE TASK\n",
        "# think about what should you inputs be, what is your outputs\n",
        "# your function should be able to take in a list and a nubmer and compare each element of list to the number\n",
        "def find_number( , ):\n",
        "    \n",
        "# you may need a for loop to check each element of the list\n",
        "\n",
        "\n",
        "\n",
        "# test\n",
        "# please check and find out is there a 7.6 in a randomly generated list c given for you??\n",
        "# c = [np.random.randint(10,100)/10 for iter in range(1000)]\n",
        "c =[5.0, 4.5, 8.6, 5.0, 1.7, 8.0, 5.8, 7.0, 8.0, 1.5, 3.6, 8.6, 6.7, 7.8, 2.1, 5.0, 9.5, 8.3, 9.2, 2.4, 3.7, 4.4, 9.1, 4.4, 1.0, 3.8, 7.8, 2.6, 8.0, 7.3, 3.6, 5.6, 1.3, 6.5, 8.8, 1.9, 2.7, 5.1, 5.3, 7.8, 1.9, 9.0, 6.7, 2.1, 1.9, 4.3, 1.5, 8.0, 2.7, 2.4, 3.3, 8.4, 8.1, 4.4, 7.7, 4.9, 7.7, 4.3, 6.6, 6.3, 2.4, 6.3, 4.9, 9.3, 8.1, 9.3, 3.3, 3.3, 3.8, 5.3, 8.1, 1.7, 4.8, 7.2, 7.6, 7.6, 5.8, 7.0, 4.0, 1.4, 1.6, 9.0, 1.6, 6.8, 7.9, 7.0, 2.3, 6.4, 1.6, 4.3, 6.5, 2.6, 9.8, 5.1, 1.8, 3.1, 4.4, 7.5, 5.9, 5.0, 8.0, 7.1, 4.4, 8.1, 5.9, 5.7, 6.8, 4.4, 8.9, 5.0, 2.1, 9.5, 8.5, 9.3, 4.0, 8.2, 5.6, 7.9, 8.5, 2.3, 9.8, 6.4, 2.1, 1.5, 4.2, 5.7, 2.7, 4.3, 9.9, 6.1, 9.8, 5.5, 8.3, 3.6, 9.0, 1.6, 7.7, 7.7, 1.8, 4.0, 5.2, 3.6, 2.0, 1.6, 2.3, 7.4, 7.7, 6.9, 7.0, 4.3, 5.5, 5.6, 6.3, 3.6, 7.3, 3.1, 4.9, 2.3, 8.8, 5.5, 5.6, 3.5, 6.2, 7.4, 6.2, 4.0, 3.0, 7.9, 9.7, 4.9, 1.2, 5.5, 4.7, 3.5, 8.0, 3.0, 1.0, 5.0, 7.8, 3.2, 8.0, 3.3, 9.6, 9.7, 6.0, 6.5, 4.5, 1.2, 2.1, 2.9, 3.1, 8.4, 6.3, 5.9, 9.2, 5.9, 4.1, 8.8, 3.4, 4.0, 6.6, 7.6, 5.4, 1.5, 6.8, 6.8, 3.4, 6.6, 6.4, 7.3, 8.4, 2.2, 3.6, 2.5, 7.2, 6.9, 8.1, 2.2, 5.9, 9.3, 2.3, 6.7, 1.2, 3.1, 1.8, 3.9, 8.6, 5.6, 7.0, 7.6, 2.2, 5.3, 5.1, 3.7, 5.4, 8.8, 3.1, 5.9, 7.9, 5.3, 4.1, 7.7, 5.8, 3.7, 8.6, 1.5, 2.5, 1.0, 6.3, 8.9, 4.4, 4.9, 7.5, 6.4, 1.4, 7.0, 6.5, 2.0, 3.6, 2.3, 6.2, 3.6, 8.8, 7.0, 9.5, 3.8, 8.3, 6.2, 3.6, 5.2, 7.9, 4.2, 9.6, 2.2, 9.3, 8.5, 6.7, 8.6, 5.0, 5.1, 8.0, 1.4, 5.9, 4.0, 4.9, 3.6, 3.4, 4.3, 7.1, 5.8, 6.0, 8.1, 8.7, 2.8, 9.0, 6.2, 6.5, 7.3, 1.9, 2.4, 8.6, 2.5, 2.4, 8.3, 3.8, 4.4, 3.1, 2.4, 3.5, 8.7, 1.3, 1.8, 4.5, 3.8, 6.4, 7.7, 5.9, 1.6, 7.2, 7.5, 9.7, 8.3, 6.7, 2.5, 5.5, 9.4, 3.4, 1.8, 9.9, 9.3, 8.5, 5.3, 1.8, 5.6, 7.4, 8.6, 4.7, 3.3, 3.9, 5.2, 2.8, 8.4, 6.1, 8.7, 4.5, 6.5, 6.0, 3.3, 8.0, 7.0, 8.5, 8.6, 3.2, 2.5, 4.3, 2.1, 8.4, 1.6, 8.1, 8.1, 7.7, 9.1, 5.0, 9.7, 1.2, 2.4, 7.3, 5.1, 3.0, 4.0, 6.5, 2.1, 3.2, 5.4, 3.0, 6.6, 1.2, 3.5, 2.0, 8.2, 7.3, 7.8, 7.6, 8.1, 8.9, 5.8, 9.5, 1.1, 4.9, 3.0, 2.1, 5.2, 3.3, 5.6, 1.9, 6.4, 2.0, 1.2, 2.7, 2.3, 1.6, 6.0, 6.0, 2.2, 8.3, 9.7, 2.9, 9.2, 2.2, 4.5, 4.1, 7.3, 8.0, 8.0, 7.0, 8.5, 6.5, 7.6, 1.7, 6.9, 6.2, 9.6, 7.0, 4.6, 4.1, 8.2, 2.3, 5.9, 5.8, 9.7, 7.8, 7.8, 9.2, 9.9, 1.6, 4.8, 9.1, 2.2, 5.3, 4.1, 1.3, 2.3, 4.5, 5.4, 9.3, 1.5, 8.2, 9.7, 9.9, 6.4, 9.9, 7.7, 2.3, 3.8, 8.2, 1.8, 7.3, 3.7, 6.8, 5.0, 7.0, 1.8, 6.0, 1.5, 7.1, 9.8, 2.8, 3.7, 2.9, 3.2, 4.8, 9.7, 1.0, 6.9, 8.0, 1.9, 8.4, 7.3, 6.8, 9.4, 9.7, 8.1, 6.1, 5.9, 5.8, 2.0, 5.7, 9.3, 1.8, 5.3, 8.2, 4.9, 2.0, 2.3, 3.0, 4.0, 3.1, 8.7, 4.6, 7.8, 8.3, 2.6, 6.5, 8.1, 7.7, 2.5, 7.0, 7.9, 3.2, 2.7, 2.2, 5.1, 9.9, 6.2, 6.7, 9.6, 8.5, 4.1, 3.3, 4.3, 8.5, 2.6, 4.8, 6.1, 7.2, 9.7, 8.7, 2.6, 1.2, 4.7, 4.7, 9.6, 6.4, 3.4, 7.0, 4.3, 3.8, 7.7, 1.6, 3.9, 9.8, 4.8, 5.9, 3.1, 3.4, 6.6, 5.3, 3.2, 9.3, 9.2, 8.7, 4.8, 1.3, 5.2, 4.0, 5.6, 9.3, 6.0, 1.4, 6.9, 9.6, 9.6, 6.7, 4.3, 1.7, 6.6, 7.5, 3.3, 4.0, 8.3, 6.9, 2.3, 4.7, 9.1, 7.4, 5.8, 3.8, 3.2, 3.0, 4.4, 4.9, 8.6, 6.4, 1.0, 4.8, 3.8, 5.6, 7.7, 7.3, 3.0, 1.3, 4.5, 3.5, 8.2, 9.2, 8.0, 3.1, 9.3, 4.7, 2.6, 6.6, 1.9, 6.7, 8.5, 2.1, 3.3, 9.0, 9.4, 2.8, 4.5, 8.6, 2.0, 9.4, 5.6, 2.6, 4.1, 4.2, 5.3, 8.6, 3.7, 1.4, 1.8, 9.1, 7.8, 6.1, 8.7, 8.4, 1.4, 9.8, 9.6, 6.0, 5.0, 1.6, 1.9, 1.7, 7.9, 1.7, 8.1, 2.3, 8.7, 7.7, 7.4, 1.7, 9.7, 3.1, 9.1, 5.2, 9.7, 1.4, 3.2, 3.9, 3.1, 6.7, 2.6, 4.7, 7.2, 1.8, 3.3, 7.7, 8.1, 7.0, 2.4, 2.4, 8.1, 6.2, 8.6, 1.9, 8.6, 5.4, 4.0, 9.3, 7.2, 3.9, 6.4, 5.9, 6.2, 3.7, 7.9, 8.1, 1.8, 5.2, 7.1, 3.5, 8.7, 4.3, 5.0, 1.4, 3.1, 3.5, 5.4, 3.6, 6.6, 2.4, 7.9, 8.5, 9.3, 6.7, 1.2, 3.8, 9.1, 7.0, 1.9, 1.3, 4.7, 2.8, 9.3, 2.7, 2.5, 8.5, 6.2, 4.1, 5.8, 4.9, 3.1, 4.3, 2.7, 6.2, 3.4, 9.4, 9.7, 3.2, 5.9, 2.6, 2.3, 6.3, 7.0, 3.4, 6.3, 4.5, 3.0, 9.6, 7.1, 6.7, 9.1, 8.5, 1.4, 2.4, 6.4, 4.9, 8.8, 2.7, 6.7, 7.4, 7.5, 9.0, 6.0, 8.7, 8.1, 2.8, 2.8, 1.2, 4.6, 4.8, 2.4, 8.9, 1.5, 4.0, 8.5, 7.6, 2.1, 5.7, 7.9, 8.4, 1.5, 5.9, 2.3, 9.3, 1.3, 6.8, 5.4, 2.4, 2.9, 1.8, 7.1, 3.3, 5.2, 2.8, 9.7, 7.8, 8.8, 7.0, 1.2, 7.1, 5.1, 8.6, 6.7, 4.4, 4.2, 5.5, 6.9, 9.7, 2.5, 8.9, 1.6, 9.0, 1.9, 4.7, 4.0, 1.8, 7.2, 1.9, 7.6, 7.7, 9.4, 2.9, 4.8, 4.3, 7.4, 3.5, 7.7, 5.9, 8.1, 1.0, 7.4, 5.0, 2.1, 5.3, 4.7, 4.7, 2.3, 2.8, 6.4, 8.7, 5.3, 2.1, 2.3, 2.1, 1.8, 3.4, 4.1, 2.7, 8.9, 1.9, 5.6, 9.0, 9.8, 3.6, 1.7, 4.9, 6.8, 2.3, 7.0, 4.9, 5.0, 6.2, 8.6, 6.8, 1.8, 8.1, 5.9, 4.1, 1.2, 4.0, 3.5, 1.7, 6.2, 3.4, 7.1, 5.7, 5.3, 4.0, 4.3, 5.7, 2.2, 2.4, 1.4, 3.3, 7.2, 5.7, 5.8, 7.1, 5.3, 5.7, 9.0, 2.7, 9.2, 1.4, 2.0, 8.8, 1.1, 5.7, 4.6, 1.6, 7.3, 7.3, 1.7, 3.5, 3.0, 7.1, 4.0, 3.9, 6.4, 3.0, 2.4, 5.9, 1.8, 2.8, 1.8, 1.2, 2.4, 3.8, 6.6, 9.9, 8.3, 8.1, 5.5, 3.2, 3.1, 9.4, 5.1, 5.2, 5.5, 1.3, 8.0, 9.2, 3.2, 6.5, 6.7, 5.2, 5.8, 2.7, 7.5, 8.6, 7.6, 8.2, 1.6, 7.3, 1.1, 1.8, 5.3, 8.1, 5.5, 4.1, 3.2, 9.3, 9.3, 5.0, 3.6, 7.5, 9.5, 7.8, 6.8, 9.3, 8.4, 4.5, 1.8, 4.6, 6.8, 1.3, 9.6, 3.9, 2.0, 2.2, 4.7, 1.2, 9.3, 8.8, 4.8, 1.0, 6.9, 2.6, 3.7, 9.4, 5.9, 4.1, 4.3, 6.4, 7.9, 9.4, 8.0, 6.5, 7.2, 3.2, 9.4, 6.5, 8.3, 2.2, 8.0, 5.2, 4.8, 4.3, 5.3, 9.7, 1.9, 7.8, 2.5, 1.3, 1.9, 8.6, 4.6, 2.1, 3.7, 8.1, 4.2, 1.2, 4.3, 2.2, 7.4, 4.2, 5.2]\n",
        "\n"
      ],
      "execution_count": 24,
      "outputs": [
        {
          "output_type": "error",
          "ename": "SyntaxError",
          "evalue": "ignored",
          "traceback": [
            "\u001b[0;36m  File \u001b[0;32m\"<ipython-input-24-e276b2f6f66c>\"\u001b[0;36m, line \u001b[0;32m9\u001b[0m\n\u001b[0;31m    def find_number( , ):\u001b[0m\n\u001b[0m                     ^\u001b[0m\n\u001b[0;31mSyntaxError\u001b[0m\u001b[0;31m:\u001b[0m invalid syntax\n"
          ]
        }
      ]
    },
    {
      "cell_type": "code",
      "metadata": {
        "id": "kZ_GdZSE_jT9"
      },
      "source": [
        "# 2. Same as problem one, could you write a program to count the number of time an number appeared in a list\n",
        "# for example given [1, 2, 3, 2, 2, 3, 4, 5, 6, 8], if you are asked to check home many times 2 appears\n",
        "# your output should be 3, because 2 appears 3 times.\n",
        "def count_time( , ):\n",
        "\n",
        "\n",
        "\n",
        "# test count how many time 5.5 appears in c given above\n",
        "\n"
      ],
      "execution_count": null,
      "outputs": []
    },
    {
      "cell_type": "code",
      "metadata": {
        "id": "fy95Y5qgBHC-"
      },
      "source": [
        "# 3. Could you wrtie a function to compute the average absolute difference of two matrices of the same size\n",
        "# for example Matrix A = [[1,2],[2,3]], B = [[1,3],[1,4]]\n",
        "# you should get avergae(A-B) = (0 + abs(-1) + 1 + abs(-1))/4\n",
        "# you are given A1 = [[1,2],[2,3], [1,5]], B1 = [[1,3],[1,4],[2,3]]\n",
        "# you should get average(A1-B1) = (0 + abs(-1) + 1 + abs(-1) + abs(-1) + 2)/6\n",
        "# hint: you could use np.abs(A-B) for matrix you can also do it in similar way for sum(abs(A-B)) directly without using for loop.\n",
        "def average_diff (A, B):\n",
        "    # your program start here:\n",
        "\n",
        "\n",
        "# test \n",
        "A1 = np.array([[1,2,2],[2,3,1], [1,5,4], [2,5,8]])\n",
        "B1 = np.array([[1,3,3],[1,4,2],[2,3,4], [4,6,7]])\n",
        "# please calculate the average of A-B using your created function\n",
        "\n"
      ],
      "execution_count": null,
      "outputs": []
    },
    {
      "cell_type": "code",
      "metadata": {
        "id": "6MhMvMXpC1V5"
      },
      "source": [
        "# 4. could wrtie a fucntion solver for a * X^2 + b * X + c = d\n",
        "# you are given the following function definition\n",
        "def sovle_quadratic_function(a, b, c, d):\n",
        "    # you program start here:\n",
        "    # please use the normal root formular: x1 = (-b + sqrt(b^2 - 4*a*c))/2*a; x2 = (-b - sqrt(b^2 - 4*a*c))/2*a\n",
        "\n",
        "# test solve   \n",
        "# Use your function to calculate the roots for 15*x^2 - 8*x - 5 = 0\n"
      ],
      "execution_count": null,
      "outputs": []
    },
    {
      "cell_type": "code",
      "metadata": {
        "id": "T3HjPeknFe4Y"
      },
      "source": [
        "# 5. Use my posted midterm solutions (or the neural network program in quiz 1, they are the same)\n",
        "# to crate and training a neural network for the following dataset X and Y\n",
        "# Where each element in the X is the input and each element in the Y is the output label.\n",
        "# Basically, you have 7 X[i]'s and 7 Y[i]'s. \n",
        "# ex. [0.7, 0.6, 0.8, 0.1, 0.2, 0.3] has a Y label of [0.9,0.1]\n",
        "# [0.2, 0.3, 0.46, 0.6, 0.65, 0.74] has a Y label of [0.1 0.9]\n",
        "# You do not need to wrtie a homework, you need to call the neural network function to do the training task\n",
        "\n",
        "X = np.array([[0.7, 0.6, 0.8, 0.1, 0.2, 0.3], [0.55, 0.8, 0.6, 0.3, 0.03, 0.4], \n",
        "              [0.59, 0.75, 0.64, 0.12, 0.07, 0.1], [0.59, 0.75, 0.64, 0.12, 0.07, 0.1],\n",
        "              [0.2, 0.3, 0.46, 0.6, 0.65, 0.74], [0.25, 0.45, 0.38, 0.9, 0.88, 0.72], \n",
        "              [0.39, 0.42, 0.21, 0.58, 0.95, 0.67]])\n",
        "              \n",
        "Y = np.array([[0.9,0.1],[0.9,0.1],[0.9,0.1],[0.9,0.1], [0.1,0.9], [0.1,0.9], [0.1,0.9]])\n",
        "print(X)\n",
        "print(Y)\n",
        "\n",
        "# part 1. please create a neural network and train your neural network\n",
        "# you have 7 samples (again each (X,Y) pair is a training sample) \n",
        "# in this case, you need a for loop to loop through each samples \n",
        "# you can train each sample for 1000 iterations\n",
        "# your code start here:\n",
        "\n",
        "\n",
        "# part 2. test and predict:\n",
        "# could you use your trained neural network to test the ouput of [0.65, 0.45, 0.2, 0.86, 0.45, 0.94]\n",
        "# could you predict [0.11, 0.22, 0.17, 0.92, 0.55, 0.77]?\n",
        "# What is the predicted label? Could you print it?\n",
        "\n",
        "# your prediction code goes here:\n",
        "\n",
        "\n",
        "\n",
        "\n",
        "\n"
      ],
      "execution_count": null,
      "outputs": []
    },
    {
      "cell_type": "code",
      "metadata": {
        "id": "ESM95AOrEIX9"
      },
      "source": [
        "# 6. Write a Python program to print every second element from a list starting from the first element\n",
        "# save and return the rest elements in a new list\n",
        "\n",
        "# for example if you are given a list [1,2,3,4,5,6,7]\n",
        "# you should print 1,3,5,7 and return [2,4,6]\n",
        "def print_everysecond( listA ):\n",
        "    listB = []\n",
        "    for i in \n",
        "        if i % 2 == 0:\n",
        "           \n",
        "\n",
        "        else:\n",
        "           \n",
        "\n",
        "    return listB\n",
        "\n",
        "\n",
        "\n",
        "# test your program on d =  [a, c, d, e, f, g, h, i, k, j, m, l, n]\n",
        "d =  ['a', 'c', 'd', 'e', 'f', 'g', 'h', 'i', 'k', 'j', 'm', 'l', 'n']\n",
        "e = print_everysecond( d )\n",
        "print(e)\n",
        "a = [1,2,3,4,5,6,7]\n",
        "b = print_everysecond( a )\n",
        "print(b)\n"
      ],
      "execution_count": null,
      "outputs": []
    }
  ]
}