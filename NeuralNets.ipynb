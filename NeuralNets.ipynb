{
  "nbformat": 4,
  "nbformat_minor": 0,
  "metadata": {
    "colab": {
      "name": "NeuralNets.ipynb",
      "provenance": [],
      "collapsed_sections": [],
      "authorship_tag": "ABX9TyMIidfHdjXrN0svTn2wt2o6",
      "include_colab_link": true
    },
    "kernelspec": {
      "name": "python3",
      "display_name": "Python 3"
    }
  },
  "cells": [
    {
      "cell_type": "markdown",
      "metadata": {
        "id": "view-in-github",
        "colab_type": "text"
      },
      "source": [
        "<a href=\"https://colab.research.google.com/github/yongzhiqu/IE_4495/blob/master/NeuralNets.ipynb\" target=\"_parent\"><img src=\"https://colab.research.google.com/assets/colab-badge.svg\" alt=\"Open In Colab\"/></a>"
      ]
    },
    {
      "cell_type": "code",
      "metadata": {
        "id": "rOlZT6pl32Kz"
      },
      "source": [
        "# implementation of a neural network\n",
        "import numpy as np"
      ],
      "execution_count": 182,
      "outputs": []
    },
    {
      "cell_type": "code",
      "metadata": {
        "id": "_SDGshrV4H_l"
      },
      "source": [
        "def generateNeuralNet(shape):\n",
        "    neuralNet = []\n",
        "    for i in range(len(shape)-1):\n",
        "        #neuralNet.append(np.random.random((shape[i+1],shape[i])))\n",
        "        neuralNet.append(np.random.random((shape[i+1],shape[i]+1))*2-1)\n",
        "    return neuralNet"
      ],
      "execution_count": 183,
      "outputs": []
    },
    {
      "cell_type": "code",
      "metadata": {
        "id": "c9kFrI0q7oQd"
      },
      "source": [
        "# now do feedforward for the neural network we just created\n",
        "def applyneuralNet(neuralNet, input):\n",
        "    values = []\n",
        "    values.append(input)\n",
        "    for i in range(len(neuralNet)):\n",
        "        z = neuralNet[i]@np.append(values[i],1)\n",
        "        activation = 1/(1 + np.exp(-z)) \n",
        "        values.append(activation)\n",
        "    return values"
      ],
      "execution_count": 184,
      "outputs": []
    },
    {
      "cell_type": "code",
      "metadata": {
        "colab": {
          "base_uri": "https://localhost:8080/"
        },
        "id": "lCLIFHyY6HXK",
        "outputId": "e111aac6-5b49-49d7-99f7-dfa1b0611bbf"
      },
      "source": [
        "# test function generateNeuralNet()\n",
        "my_net = generateNeuralNet([10,5,2])\n",
        "print(my_net)\n",
        "for l in my_net:\n",
        "    print(l.shape)"
      ],
      "execution_count": 194,
      "outputs": [
        {
          "output_type": "stream",
          "text": [
            "[array([[ 0.42289227, -0.9166415 , -0.927701  , -0.07340595,  0.34176152,\n",
            "        -0.34360313, -0.49898419, -0.66943402,  0.41010258, -0.19888666,\n",
            "        -0.86941883],\n",
            "       [-0.91594063, -0.12968608, -0.05341541, -0.97718653,  0.77122127,\n",
            "        -0.98983567,  0.29610347,  0.89616354,  0.41066857, -0.33211793,\n",
            "        -0.10230097],\n",
            "       [-0.68517354,  0.88800535,  0.96233098, -0.9484522 , -0.95000064,\n",
            "        -0.70255019, -0.4590356 ,  0.8209153 , -0.50948773, -0.19394479,\n",
            "        -0.26698638],\n",
            "       [ 0.54198032,  0.41529905, -0.79927206,  0.32273358, -0.65835891,\n",
            "        -0.89942566,  0.46024266, -0.67731996, -0.74140391,  0.21414262,\n",
            "        -0.40871121],\n",
            "       [ 0.20526296,  0.9869991 ,  0.24606338,  0.97056159, -0.43575603,\n",
            "         0.46192887,  0.81653856, -0.54166045, -0.59777562,  0.19073008,\n",
            "        -0.37894786]]), array([[-0.99166452, -0.15383116,  0.8278448 ,  0.55813296,  0.79519304,\n",
            "        -0.33274587],\n",
            "       [ 0.55797175,  0.01740433, -0.47284896, -0.72780791,  0.67075425,\n",
            "        -0.38839176]])]\n",
            "(5, 11)\n",
            "(2, 6)\n"
          ],
          "name": "stdout"
        }
      ]
    },
    {
      "cell_type": "code",
      "metadata": {
        "id": "-Ax-G0Lf9Di0"
      },
      "source": [
        "# test feedforward for neural network\n",
        "\n",
        "my_shape = [10,6,3,10]\n",
        "my_net = generateNeuralNet(my_shape)"
      ],
      "execution_count": 190,
      "outputs": []
    },
    {
      "cell_type": "code",
      "metadata": {
        "id": "WHqhD3GwO4IH"
      },
      "source": [
        "test_input = np.array([random.randrange(0, 9) for p in range(0, 10)])"
      ],
      "execution_count": 191,
      "outputs": []
    },
    {
      "cell_type": "code",
      "metadata": {
        "colab": {
          "base_uri": "https://localhost:8080/"
        },
        "id": "GKLbIVJbO7LM",
        "outputId": "e0fbd201-577a-4db8-c6d4-480c7f4fc34a"
      },
      "source": [
        "my_networks_value = applyneuralNet(my_net, test_input)\n",
        "print(my_networks_value)\n",
        "for l in my_networks_value:\n",
        "    print(l.shape)\n"
      ],
      "execution_count": 193,
      "outputs": [
        {
          "output_type": "stream",
          "text": [
            "[array([2, 1, 5, 7, 1, 4, 0, 3, 8, 7]), array([9.96953399e-01, 9.99749437e-01, 1.18780204e-07, 2.07260585e-06,\n",
            "       1.11629117e-03, 1.23524665e-05]), array([0.39535857, 0.54761243, 0.18393245]), array([0.63110663, 0.56239496, 0.41704543, 0.44307522, 0.36510988,\n",
            "       0.47601012, 0.77719367, 0.55573321, 0.37406097, 0.38940558])]\n",
            "(10,)\n",
            "(6,)\n",
            "(3,)\n",
            "(10,)\n"
          ],
          "name": "stdout"
        }
      ]
    },
    {
      "cell_type": "code",
      "metadata": {
        "id": "cAVkrvSoQ4y_"
      },
      "source": [
        "def trainNeuralNet(neuralNet, input, output, iterations):\n",
        "    learningrate = 0.008\n",
        "    theta = 10e-4\n",
        "    total_error = np.inf\n",
        "\n",
        "    for i in range(iterations):\n",
        "\n",
        "        if total_error < theta:\n",
        "           break\n",
        "\n",
        "        values = applyneuralNet(neuralNet, input)\n",
        "        total_error = np.mean(np.abs(values[-1] - output))\n",
        "        error = values[-1] - output\n",
        "\n",
        "        if i % 1000 == 0:\n",
        "            print('total_error at', i, ' = ',  total_error)\n",
        "\n",
        "        for j in range(len(neuralNet)-1,-1,-1):\n",
        "            layerout = values[j+1]\n",
        "            layerin = values[j]\n",
        "            delta = (layerout * (1 - layerout)) * error\n",
        "\n",
        "            shape_j = np.shape(neuralNet[j])\n",
        "            error = (neuralNet[j][:,:shape_j[1]-1]).transpose() @ delta\n",
        "\n",
        "            delta_reshape = delta.reshape(shape_j[0],1)\n",
        "            layerin_reshape = layerin.reshape(shape_j[1]-1,1)\n",
        "            \n",
        "            neuralNet[j][:,:shape_j[1]-1] = neuralNet[j][:,:shape_j[1]-1] - (learningrate * delta_reshape@(layerin_reshape.transpose()))\n",
        "            neuralNet[j][:,-1] = neuralNet[j][:,-1] - (learningrate * delta).transpose()\n",
        "\n",
        "    return neuralNet\n",
        "\n",
        "\n"
      ],
      "execution_count": 232,
      "outputs": []
    },
    {
      "cell_type": "code",
      "metadata": {
        "id": "DKOve_8N0EGW"
      },
      "source": [
        "my_shape = [100,50,10,3]\n",
        "my_net = generateNeuralNet(my_shape)\n",
        "test_input = np.array([random.randrange(0, 9) for p in range(0, 100)])\n",
        "test_out = np.array([0.05,0.3,0.95])\n"
      ],
      "execution_count": 233,
      "outputs": []
    },
    {
      "cell_type": "code",
      "metadata": {
        "colab": {
          "base_uri": "https://localhost:8080/"
        },
        "id": "g3-FJaDe2c3N",
        "outputId": "bfee25e5-7fc7-4a16-98c9-fee2f05eb7b6"
      },
      "source": [
        "print(my_net[-1])\n",
        "my_trained_Net = trainNeuralNet(my_net, test_input, test_out, 10000)\n",
        "\n",
        "my_value = applyneuralNet(my_trained_Net, test_input)\n",
        "print(my_value[-1])"
      ],
      "execution_count": 351,
      "outputs": [
        {
          "output_type": "stream",
          "text": [
            "[[ 0.34333141 -1.25657024 -0.7780186   0.52693678  0.57649041  0.80374382\n",
            "   0.00910506  0.36663876 -0.13395672 -1.21105148 -0.93909702]\n",
            " [ 0.044557   -0.22696248 -0.33804468 -0.58407822  0.95219755 -0.4602192\n",
            "   0.14486054  0.2669627  -0.60358964 -0.86812221  0.10398335]\n",
            " [ 0.41426737 -0.02020694  0.62559635  0.04286704 -0.70087108 -0.59276091\n",
            "  -0.65406215  0.25343592 -0.70766228  1.39805908  1.29264802]]\n",
            "total_error at 0  =  0.000989923479779051\n",
            "[0.05143166 0.29995652 0.94850563]\n"
          ],
          "name": "stdout"
        }
      ]
    },
    {
      "cell_type": "code",
      "metadata": {
        "id": "SFg-f26w_SsE"
      },
      "source": [
        ""
      ],
      "execution_count": 67,
      "outputs": []
    }
  ]
}