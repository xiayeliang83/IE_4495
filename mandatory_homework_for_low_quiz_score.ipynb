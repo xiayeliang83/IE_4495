{
  "nbformat": 4,
  "nbformat_minor": 0,
  "metadata": {
    "colab": {
      "name": "mandatory_homework_for_low_quiz_score.ipynb",
      "provenance": [],
      "collapsed_sections": [],
      "authorship_tag": "ABX9TyMmPDuBU7Gej9AqdBWrT/j6",
      "include_colab_link": true
    },
    "kernelspec": {
      "name": "python3",
      "display_name": "Python 3"
    },
    "language_info": {
      "name": "python"
    }
  },
  "cells": [
    {
      "cell_type": "markdown",
      "metadata": {
        "id": "view-in-github",
        "colab_type": "text"
      },
      "source": [
        "<a href=\"https://colab.research.google.com/github/yongzhiqu/IE_4495/blob/master/mandatory_homework_for_low_quiz_score.ipynb\" target=\"_parent\"><img src=\"https://colab.research.google.com/assets/colab-badge.svg\" alt=\"Open In Colab\"/></a>"
      ]
    },
    {
      "cell_type": "code",
      "metadata": {
        "id": "dGdr8bNVGnGa"
      },
      "source": [
        "import numpy as np"
      ],
      "execution_count": 2,
      "outputs": []
    },
    {
      "cell_type": "code",
      "metadata": {
        "id": "oerWVS8Y-pN0"
      },
      "source": [
        "# python practice\n",
        "\n",
        "# 1. you are given a list of numbers, could you write a function to find whether a number appeared in the list:\n",
        "# for example given [1,2,4,7,9.5,10], could you determin whether 3 is in the list or not\n",
        "# If yes, return true, if not return false\n",
        "# PLEASE FILL IN THE FOLLOWING FUNCTION TO ACCOMPLISH THE TASK\n",
        "# think about what should you inputs be, what is your outputs\n",
        "# your function should be able to take in a list and a nubmer and compare each element of list to the number\n",
        "def find_number( , ):\n",
        "# you may need a for loop to check each element of the list\n",
        "\n",
        "\n"
      ],
      "execution_count": null,
      "outputs": []
    },
    {
      "cell_type": "code",
      "metadata": {
        "id": "kZ_GdZSE_jT9"
      },
      "source": [
        "# 2. Same as problem one, could you write a program to count the number of time an number appeared in a list\n",
        "# for example given [1, 2, 3, 2, 2, 3, 4, 5, 6, 8], if you are asked to check home many times 2 appears\n",
        "# your output should be 3, because 2 appears 3 times.\n",
        "def count_time( , ):"
      ],
      "execution_count": null,
      "outputs": []
    },
    {
      "cell_type": "code",
      "metadata": {
        "id": "fy95Y5qgBHC-"
      },
      "source": [
        "# 3. Could you wrtie a function to compute the average absolute difference of two matrices of the same size\n",
        "# for example Matrix A = [[1,2],[2,3]], B = [[1,3],[1,4]]\n",
        "# you should get avergae(A-B) = (0 + abs(-1) + 1 + abs(-1))/4\n",
        "# you are given A1 = [[1,2],[2,3], [1,5]], B1 = [[1,3],[1,4],[2,3]]\n",
        "# you should get average(A1-B1) = (0 + abs(-1) + 1 + abs(-1) + abs(-1) + 2)/6\n",
        "# hint: you could use abs(A-B) for matrix you can also do sum(abs(A-B)) directly without using for loop.\n",
        "def average_diff (A, B):\n",
        "    # your program start here:\n",
        "\n"
      ],
      "execution_count": null,
      "outputs": []
    },
    {
      "cell_type": "code",
      "metadata": {
        "id": "6MhMvMXpC1V5"
      },
      "source": [
        "# 4. could wrtie a fucntion solver for a * X^2 + b * X + c = d\n",
        "# you are given the following function definition\n",
        "def sovle_quadratic_function(a, b, c, d):\n",
        "    # you program start here:\n",
        "    # please use the normal formular: x1 = (-b + sqrt(b^2 - 4*a*c))/2*a; x2 = (-b - sqrt(b^2 - 4*a*c))/2*a"
      ],
      "execution_count": null,
      "outputs": []
    },
    {
      "cell_type": "code",
      "metadata": {
        "id": "ESM95AOrEIX9"
      },
      "source": [
        "# 5. Write a Python program to remove and print every second number from a list of numbers and return the remaining list\n",
        "\n",
        "# for example if you are given a list [1,2,3,4,5,6,7]\n",
        "# you should print 2,4,6, and return [1,3,5,7]\n",
        "def print_delete_everysecondnumber( listA ):\n",
        "    \n",
        "\n"
      ],
      "execution_count": null,
      "outputs": []
    },
    {
      "cell_type": "code",
      "metadata": {
        "colab": {
          "base_uri": "https://localhost:8080/"
        },
        "id": "T3HjPeknFe4Y",
        "outputId": "fd898d1d-6ec0-4b03-e904-d1446f3b8356"
      },
      "source": [
        "# 6. Use my posted midterm solutions (or the neural network program in quiz 1, they are the same)\n",
        "# to crate and training a neural network for the following dataset X and Y\n",
        "# Where each element in the X is the input and each element in the Y is the output label.\n",
        "# Basically, you have 7 X[i]'s and 7 Y[i]'s. \n",
        "# ex. [0.7, 0.6, 0.8, 0.1, 0.2, 0.3] has a Y label of [0.9,0.1]\n",
        "# [0.2, 0.3, 0.46, 0.6, 0.65, 0.74] has a Y label of [0.1 0.9]\n",
        "# You do not need to wrtie a homework, you need to call the neural network function to do the training task\n",
        "\n",
        "X = np.array([[0.7, 0.6, 0.8, 0.1, 0.2, 0.3], [0.55, 0.8, 0.6, 0.3, 0.03, 0.4], \n",
        "              [0.59, 0.75, 0.64, 0.12, 0.07, 0.1], [0.59, 0.75, 0.64, 0.12, 0.07, 0.1],\n",
        "              [0.2, 0.3, 0.46, 0.6, 0.65, 0.74], [0.25, 0.45, 0.38, 0.9, 0.88, 0.72], \n",
        "              [0.39, 0.42, 0.21, 0.58, 0.95, 0.67]])\n",
        "              \n",
        "Y = np.array([[0.9,0.1],[0.9,0.1],[0.9,0.1],[0.9,0.1], [0.1,0.9], [0.1,0.9], [0.1,0.9]])\n",
        "print(X)\n",
        "print(Y)\n",
        "\n",
        "# please create a neural network and train your neural network\n",
        "# your code start here:\n",
        "\n",
        "\n",
        "# could you use your train neural network to test the ouput of [0.65, 0.45, 0.2, 0.86, 0.45, 0.94]\n",
        "# What is the predicted label?\n",
        "# could you predict [0.11, 0.22, 0.17, 0.92, 0.55, 0.77]?\n",
        "\n",
        "# your prediction code goes here:\n"
      ],
      "execution_count": 14,
      "outputs": [
        {
          "output_type": "stream",
          "text": [
            "[[0.7  0.6  0.8  0.1  0.2  0.3 ]\n",
            " [0.55 0.8  0.6  0.3  0.03 0.4 ]\n",
            " [0.59 0.75 0.64 0.12 0.07 0.1 ]\n",
            " [0.59 0.75 0.64 0.12 0.07 0.1 ]\n",
            " [0.2  0.3  0.46 0.6  0.65 0.74]\n",
            " [0.25 0.45 0.38 0.9  0.88 0.72]\n",
            " [0.39 0.42 0.21 0.58 0.95 0.67]]\n",
            "[[0.9 0.1]\n",
            " [0.9 0.1]\n",
            " [0.9 0.1]\n",
            " [0.9 0.1]\n",
            " [0.1 0.9]\n",
            " [0.1 0.9]\n",
            " [0.1 0.9]]\n"
          ],
          "name": "stdout"
        }
      ]
    }
  ]
}