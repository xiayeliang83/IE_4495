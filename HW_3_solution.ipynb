{
  "nbformat": 4,
  "nbformat_minor": 0,
  "metadata": {
    "colab": {
      "name": "HW#3_solution.ipynb",
      "provenance": [],
      "authorship_tag": "ABX9TyOEnWx0SM+WV4zAV9Fzi0PR",
      "include_colab_link": true
    },
    "kernelspec": {
      "name": "python3",
      "display_name": "Python 3"
    }
  },
  "cells": [
    {
      "cell_type": "markdown",
      "metadata": {
        "id": "view-in-github",
        "colab_type": "text"
      },
      "source": [
        "<a href=\"https://colab.research.google.com/github/yongzhiqu/IE_4495/blob/master/HW_3_solution.ipynb\" target=\"_parent\"><img src=\"https://colab.research.google.com/assets/colab-badge.svg\" alt=\"Open In Colab\"/></a>"
      ]
    },
    {
      "cell_type": "code",
      "metadata": {
        "id": "zBMInOz4TF8M"
      },
      "source": [
        "# Problem 1\n",
        "# You are rewrtie what I have done in class for X = U\\sigmaV^*, and X^* = V\\sigmaU^*, and prove U is the eigenvector for XX^*\n",
        "# The same prove is given in textbook as 1.7(a), 1.7(b), 1.8(a), 1.8(b)"
      ],
      "execution_count": null,
      "outputs": []
    },
    {
      "cell_type": "code",
      "metadata": {
        "id": "QdvW-N6_UcVA"
      },
      "source": [
        "# Problem 2\n",
        "# Answer is X^* = V\\sigmaU^*"
      ],
      "execution_count": null,
      "outputs": []
    },
    {
      "cell_type": "code",
      "metadata": {
        "id": "IbAQiv3aUwca"
      },
      "source": [
        "# Problem 3\n",
        "# True, bacause when you transpose a matrix, you convert the rows to columns and columns to rows, \n",
        "# therefore raw correlation becomes column correlation for the transposed matrix\n",
        "# U represents column correlation for the orginal matrix X, the same U must represent the row corelation for X^T\n"
      ],
      "execution_count": null,
      "outputs": []
    },
    {
      "cell_type": "code",
      "metadata": {
        "colab": {
          "base_uri": "https://localhost:8080/"
        },
        "id": "F5hkUvBxVlfS",
        "outputId": "08adf615-92eb-4d8b-a071-966cf53e3892"
      },
      "source": [
        "# Problem 4 \n",
        "\n",
        "A = np.array([[0,1,1], [np.sqrt(5),2,0], [0,1,1]])\n",
        "U, S, VT = np.linalg.svd(A,full_matrices=0)\n",
        "print(S)\n",
        "# As you can see the S has two non-zero value, the third sigular value is essentially 0 except the float number accuracy."
      ],
      "execution_count": 111,
      "outputs": [
        {
          "output_type": "stream",
          "text": [
            "[3.20545117e+00 1.65078248e+00 2.83524274e-17]\n"
          ],
          "name": "stdout"
        }
      ]
    },
    {
      "cell_type": "code",
      "metadata": {
        "id": "iAxaHJjfhpXm"
      },
      "source": [
        "# Problem 5\n",
        "# use V*(inverse(\\sigma))*U^T*Y as SVD based solution\n",
        "# use np.linalg.pinv(X)*Y as backlash (pseudo-inverse) solution"
      ],
      "execution_count": null,
      "outputs": []
    },
    {
      "cell_type": "code",
      "metadata": {
        "colab": {
          "base_uri": "https://localhost:8080/"
        },
        "id": "G7LnGUJnNiO2",
        "outputId": "9cffa86d-f0c8-4f67-c9d8-dcd10407df83"
      },
      "source": [
        "# Load the Drive helper and mount\n",
        "from google.colab import drive\n",
        "\n",
        "# This will prompt for authorization.\n",
        "drive.mount('/content/drive')"
      ],
      "execution_count": 1,
      "outputs": [
        {
          "output_type": "stream",
          "text": [
            "Mounted at /content/drive\n"
          ],
          "name": "stdout"
        }
      ]
    },
    {
      "cell_type": "code",
      "metadata": {
        "colab": {
          "base_uri": "https://localhost:8080/"
        },
        "id": "mTCTQqkUNJVR",
        "outputId": "7f82a3ee-a441-49b4-c441-7ddb67cbb8cf"
      },
      "source": [
        "# Problem 6\n",
        "\n",
        "import pandas as pd\n",
        "import numpy as np\n",
        "pd_iris = pd.read_csv('/content/drive/MyDrive/Colab Notebooks/IRIS.csv')\n",
        "data_iris = pd_iris.loc[:,\"sepal_length\":\"petal_width\"]\n",
        "np_iris = data_iris.to_numpy()\n",
        "print(np_iris.shape)"
      ],
      "execution_count": 2,
      "outputs": [
        {
          "output_type": "stream",
          "text": [
            "(150, 4)\n"
          ],
          "name": "stdout"
        }
      ]
    },
    {
      "cell_type": "code",
      "metadata": {
        "id": "Kj0psacDTOgZ"
      },
      "source": [
        ""
      ],
      "execution_count": null,
      "outputs": []
    },
    {
      "cell_type": "code",
      "metadata": {
        "colab": {
          "base_uri": "https://localhost:8080/"
        },
        "id": "vQeaiu28N4wa",
        "outputId": "2b6fb9e2-c65f-48ef-f4ec-ff78525ec8c3"
      },
      "source": [
        "iris_mean = np.mean(np_iris, axis=0)\n",
        "np_iris_centered = np_iris - iris_mean \n",
        "U, S, VT = np.linalg.svd(np_iris_centered.transpose(),full_matrices=0)\n",
        "print(U.shape)"
      ],
      "execution_count": 3,
      "outputs": [
        {
          "output_type": "stream",
          "text": [
            "(4, 4)\n"
          ],
          "name": "stdout"
        }
      ]
    },
    {
      "cell_type": "code",
      "metadata": {
        "colab": {
          "base_uri": "https://localhost:8080/"
        },
        "id": "OWpoOWHjO1CH",
        "outputId": "773a3602-b563-4000-c5ed-40f6af369b8b"
      },
      "source": [
        "feature_vector = U[:,0:2]\n",
        "print(feature_vector.shape)"
      ],
      "execution_count": 4,
      "outputs": [
        {
          "output_type": "stream",
          "text": [
            "(4, 2)\n"
          ],
          "name": "stdout"
        }
      ]
    },
    {
      "cell_type": "code",
      "metadata": {
        "colab": {
          "base_uri": "https://localhost:8080/"
        },
        "id": "TajrImvbPDHP",
        "outputId": "9cc41917-0c94-49a9-e929-87386f972d19"
      },
      "source": [
        "reconstructed_data = feature_vector.transpose()@ np_iris_centered.transpose()\n",
        "print(reconstructed_data.shape)"
      ],
      "execution_count": 5,
      "outputs": [
        {
          "output_type": "stream",
          "text": [
            "(2, 150)\n"
          ],
          "name": "stdout"
        }
      ]
    },
    {
      "cell_type": "code",
      "metadata": {
        "colab": {
          "base_uri": "https://localhost:8080/",
          "height": 265
        },
        "id": "p6c0XJr8Pl3g",
        "outputId": "26086896-50c0-4a1c-fe3b-97677ed5a36f"
      },
      "source": [
        "import matplotlib.pyplot as plt\n",
        "fig = plt.figure()\n",
        "plt.plot(reconstructed_data[0,0:50],reconstructed_data[1,0:50], '+', Color='r')\n",
        "plt.plot(reconstructed_data[0,50:100],reconstructed_data[1,50:100], 'd', Color='g')\n",
        "plt.plot(reconstructed_data[0,100:150],reconstructed_data[1,100:150], '^', Color='b')\n",
        "plt.grid()"
      ],
      "execution_count": 6,
      "outputs": [
        {
          "output_type": "display_data",
          "data": {
            "image/png": "[encoded data removed]",
            "text/plain": [
              "<Figure size 432x288 with 1 Axes>"
            ]
          },
          "metadata": {
            "tags": [],
            "needs_background": "light"
          }
        }
      ]
    },
    {
      "cell_type": "code",
      "metadata": {
        "id": "_mdfFZpUOLrD"
      },
      "source": [
        "# Problem 7\n",
        "\n",
        "import tensorflow as tf\n",
        "from tensorflow import keras\n",
        "import numpy as np\n",
        "import os\n",
        "from matplotlib import pyplot as plt\n",
        "\n",
        "mnist = tf.keras.datasets.mnist\n",
        "\n",
        "(training_images, training_labels), (test_images, test_labels) = mnist.load_data()"
      ],
      "execution_count": 9,
      "outputs": []
    },
    {
      "cell_type": "code",
      "metadata": {
        "colab": {
          "base_uri": "https://localhost:8080/",
          "height": 336
        },
        "id": "gFAFBG77OQH3",
        "outputId": "7bbc8022-0082-4bf0-8dc0-e9ba0c26783f"
      },
      "source": [
        "import random \n",
        "\n",
        "index2 = np.where(test_labels==2)\n",
        "all2s = test_images[index2]\n",
        "print(all2s.shape)\n",
        "print(np.shape(index))\n",
        "\n",
        "index8 = np.where(test_labels==8)\n",
        "all8s = test_images[index8]\n",
        "print(all8s.shape)\n",
        "\n",
        "random2 = random.randrange(0,len(all2s)) # choose a random index\n",
        "\n",
        "fig = plt.figure()\n",
        "ax1 = fig.add_subplot(2,1,1)\n",
        "ax1.imshow(all2s[random2], cmap='gray')\n",
        "\n",
        "random8 = random.randrange(0,len(all8s)) # choose a random index for 8\n",
        "ax2 = fig.add_subplot(2,1,2)\n",
        "ax2.imshow(all8s[random8], cmap='gray')\n"
      ],
      "execution_count": 32,
      "outputs": [
        {
          "output_type": "stream",
          "text": [
            "(1032, 28, 28)\n",
            "(1, 1032)\n",
            "(974, 28, 28)\n"
          ],
          "name": "stdout"
        },
        {
          "output_type": "execute_result",
          "data": {
            "text/plain": [
              "<matplotlib.image.AxesImage at 0x7fed3ee57950>"
            ]
          },
          "metadata": {
            "tags": []
          },
          "execution_count": 32
        },
        {
          "output_type": "display_data",
          "data": {
            "image/png": "[encoded data removed]",
            "text/plain": [
              "<Figure size 432x288 with 2 Axes>"
            ]
          },
          "metadata": {
            "tags": [],
            "needs_background": "light"
          }
        }
      ]
    },
    {
      "cell_type": "code",
      "metadata": {
        "colab": {
          "base_uri": "https://localhost:8080/"
        },
        "id": "YIqcOTc547q3",
        "outputId": "800a3e57-f9a5-4ccf-ad17-8f749baf017d"
      },
      "source": [
        "\n",
        "all2s_reshape = np.reshape(all2s, [1032, 28*28])\n",
        "print(all2s_reshape.shape)\n",
        "all8s_reshape = np.reshape(all8s, [974, 28*28])\n",
        "\n",
        "all_image = np.concatenate((all2s_reshape, all8s_reshape), axis=0)\n",
        "# all_image = [all2s_reshape, all8s_reshape]\n",
        "np.shape(all_image)"
      ],
      "execution_count": 14,
      "outputs": [
        {
          "output_type": "stream",
          "text": [
            "(1032, 784)\n"
          ],
          "name": "stdout"
        },
        {
          "output_type": "execute_result",
          "data": {
            "text/plain": [
              "(2006, 784)"
            ]
          },
          "metadata": {
            "tags": []
          },
          "execution_count": 14
        }
      ]
    },
    {
      "cell_type": "code",
      "metadata": {
        "colab": {
          "base_uri": "https://localhost:8080/"
        },
        "id": "Dyw6r-3r1WLd",
        "outputId": "d637d9ad-74cb-44a3-814c-517ec608e840"
      },
      "source": [
        "avgNumber = np.mean(all_image,axis=0) # a vector of size 784 by 1\n",
        "print(avgNumber.shape)\n",
        "all_image_nomean = all_image - avgNumber # this will work if you understand that \n",
        "#avgNumber has the same dimensional as each element of all-image\n",
        "#however, it is not recommended, use with care. The following is a better practice\n",
        "all_image_nomean = all_image - np.tile(avgNumber, [2006, 1]) \n",
        "\n",
        "all8s_nomean = all8s_reshape - avgNumber\n",
        "all2s_nomean = all2s_reshape - avgNumber\n",
        "all_image_nomean.shape\n",
        "\n"
      ],
      "execution_count": 96,
      "outputs": [
        {
          "output_type": "stream",
          "text": [
            "(784,)\n"
          ],
          "name": "stdout"
        },
        {
          "output_type": "execute_result",
          "data": {
            "text/plain": [
              "(2006, 784)"
            ]
          },
          "metadata": {
            "tags": []
          },
          "execution_count": 96
        }
      ]
    },
    {
      "cell_type": "code",
      "metadata": {
        "colab": {
          "base_uri": "https://localhost:8080/"
        },
        "id": "D30DAaP3D7cr",
        "outputId": "10c01d4f-7a8f-4d1e-af36-5c4fb5d38039"
      },
      "source": [
        "\n",
        "all_image_nomean_transpose=all_image_nomean.transpose()\n",
        "print(all_image_nomean_transpose.shape)\n",
        "\n",
        "all8s_nomean_transpose = all8s_nomean.transpose()\n",
        "U, S, VT = np.linalg.svd(all_image_nomean_transpose,full_matrices=0)\n",
        "#U, S, VT = np.linalg.svd(all8s_nomean_transpose,full_matrices=0)\n",
        "\n",
        "print(np.shape(all_image_nomean_transpose))\n",
        "\n",
        "print(U.shape)\n",
        "print(S.shape)\n",
        "print(VT.shape)\n",
        "\n",
        "#reconstruct = U @ np.diag(S) @ VT\n"
      ],
      "execution_count": 16,
      "outputs": [
        {
          "output_type": "stream",
          "text": [
            "(784, 2006)\n",
            "(784, 2006)\n",
            "(784, 784)\n",
            "(784,)\n",
            "(784, 2006)\n"
          ],
          "name": "stdout"
        }
      ]
    },
    {
      "cell_type": "code",
      "metadata": {
        "colab": {
          "base_uri": "https://localhost:8080/",
          "height": 89
        },
        "id": "x2XnUCIzEST6",
        "outputId": "9b083930-6cfa-409d-9d0a-5fd1c536404e"
      },
      "source": [
        "fig1 = plt.figure()\n",
        "ax1 = fig1.add_subplot(151)\n",
        "img_avg = ax1.imshow(np.reshape(all_image[100],(28,28)))\n",
        "img_avg.set_cmap('gray')\n",
        "plt.axis('off')\n",
        "\n",
        "ax2 = fig1.add_subplot(152)\n",
        "img_u1 = ax2.imshow(np.reshape(U[:,0],(28,28)))\n",
        "img_u1.set_cmap('gray')\n",
        "plt.axis('off')\n",
        "\n",
        "ax2 = fig1.add_subplot(153)\n",
        "img_u1 = ax2.imshow(np.reshape(U[:,1],(28,28)))\n",
        "img_u1.set_cmap('gray')\n",
        "plt.axis('off')\n",
        "\n",
        "ax2 = fig1.add_subplot(154)\n",
        "img_u1 = ax2.imshow(np.reshape(U[:,2],(28,28)))\n",
        "img_u1.set_cmap('gray')\n",
        "plt.axis('off')\n",
        "\n",
        "ax5 = fig1.add_subplot(155)\n",
        "img_u1 = ax5.imshow(np.reshape(U[:,3],(28,28)))\n",
        "img_u1.set_cmap('gray')\n",
        "plt.axis('off')\n",
        "\n",
        "plt.show()"
      ],
      "execution_count": 45,
      "outputs": [
        {
          "output_type": "display_data",
          "data": {
            "image/png": "[encoded data removed]",
            "text/plain": [
              "<Figure size 432x288 with 5 Axes>"
            ]
          },
          "metadata": {
            "tags": [],
            "needs_background": "light"
          }
        }
      ]
    },
    {
      "cell_type": "code",
      "metadata": {
        "colab": {
          "base_uri": "https://localhost:8080/"
        },
        "id": "veS2dgRSDcp3",
        "outputId": "cbc586e6-fcd5-4de3-e1cf-1a86e7ade753"
      },
      "source": [
        "mnist_feature_vector = U[:,0:20]\n",
        "print(mnist_feature_vector.shape)"
      ],
      "execution_count": 104,
      "outputs": [
        {
          "output_type": "stream",
          "text": [
            "(784, 20)\n"
          ],
          "name": "stdout"
        }
      ]
    },
    {
      "cell_type": "code",
      "metadata": {
        "colab": {
          "base_uri": "https://localhost:8080/",
          "height": 265
        },
        "id": "Q2zhOmYxHJ-l",
        "outputId": "51752f6f-b958-49d6-d152-8c682b221610"
      },
      "source": [
        "A = mnist_feature_vector\n",
        "AT = mnist_feature_vector.transpose()\n",
        "C = all_image_nomean_transpose[:,4]\n",
        "D = all_image_nomean_transpose[:,1042]\n",
        "\n",
        "reconstructed2 = avgNumber + A@AT@C\n",
        "reconstructed8 = avgNumber + A@AT@D\n",
        "\n",
        "fig = plt.figure()\n",
        "ax1 = fig.add_subplot(2,1,1)\n",
        "img_u1 = ax1.imshow(np.reshape(reconstructed2,(28,28)))\n",
        "img_u1.set_cmap('gray')\n",
        "plt.axis('off')\n",
        "\n",
        "ax1 = fig.add_subplot(2,1,2)\n",
        "img_u1 = ax1.imshow(np.reshape(reconstructed8,(28,28)))\n",
        "img_u1.set_cmap('gray')\n",
        "plt.axis('off')\n"
      ],
      "execution_count": 105,
      "outputs": [
        {
          "output_type": "execute_result",
          "data": {
            "text/plain": [
              "(-0.5, 27.5, 27.5, -0.5)"
            ]
          },
          "metadata": {
            "tags": []
          },
          "execution_count": 105
        },
        {
          "output_type": "display_data",
          "data": {
            "image/png": "[encoded data removed]",
            "text/plain": [
              "<Figure size 432x288 with 2 Axes>"
            ]
          },
          "metadata": {
            "tags": [],
            "needs_background": "light"
          }
        }
      ]
    },
    {
      "cell_type": "code",
      "metadata": {
        "colab": {
          "base_uri": "https://localhost:8080/"
        },
        "id": "SpEbcAMcLXd0",
        "outputId": "5a299a8b-02a6-47a4-bb81-fbe2ab8633a0"
      },
      "source": [
        "mnist_2Dfeature_vector = U[:,0:2]\n",
        "print(mnist_feature_vector.shape)\n",
        "\n",
        "reduced2 = mnist_2Dfeature_vector.transpose() @ all_image_nomean_transpose[:,0:10]\n",
        "reduced8 = mnist_2Dfeature_vector.transpose() @ all_image_nomean_transpose[:,1032:1042]\n",
        "print(reduced2.shape)\n",
        "print(reduced8.shape)"
      ],
      "execution_count": 61,
      "outputs": [
        {
          "output_type": "stream",
          "text": [
            "(784, 20)\n",
            "(2, 10)\n",
            "(2, 10)\n"
          ],
          "name": "stdout"
        }
      ]
    },
    {
      "cell_type": "code",
      "metadata": {
        "colab": {
          "base_uri": "https://localhost:8080/",
          "height": 265
        },
        "id": "yRxZp5XeMCrk",
        "outputId": "b3c1a65f-7264-446a-aa18-0b84599d6a12"
      },
      "source": [
        "fig = plt.figure()\n",
        "plt.plot(reduced2[0,:],reduced2[1,:], '+', Color='r')\n",
        "plt.plot(reduced8[0,:],reduced8[1,:], 'd', Color='g')\n",
        "\n",
        "plt.grid()"
      ],
      "execution_count": 63,
      "outputs": [
        {
          "output_type": "display_data",
          "data": {
            "image/png": "[encoded data removed]",
            "text/plain": [
              "<Figure size 432x288 with 1 Axes>"
            ]
          },
          "metadata": {
            "tags": [],
            "needs_background": "light"
          }
        }
      ]
    },
    {
      "cell_type": "code",
      "metadata": {
        "colab": {
          "base_uri": "https://localhost:8080/"
        },
        "id": "ufb0AVGbMjAK",
        "outputId": "f3f94cd2-9622-493a-d5ff-3c9c64325f3e"
      },
      "source": [
        "all5s = test_images[np.where(test_labels==5)]\n",
        "print(all5s.shape)"
      ],
      "execution_count": 65,
      "outputs": [
        {
          "output_type": "stream",
          "text": [
            "(892, 28, 28)\n"
          ],
          "name": "stdout"
        }
      ]
    },
    {
      "cell_type": "code",
      "metadata": {
        "colab": {
          "base_uri": "https://localhost:8080/",
          "height": 264
        },
        "id": "6IAAzDu5NNay",
        "outputId": "b820aab6-e8c9-45f9-d485-e6391ff10e3e"
      },
      "source": [
        "test5 = all5s[2] # third 5 in all5s, you can take anyone\n",
        "\n",
        "plt.imshow(test5)\n",
        "plt.set_cmap('gray')\n",
        "plt.title('Original Image')\n",
        "plt.axis('off')\n",
        "plt.show()\n",
        "\n"
      ],
      "execution_count": 77,
      "outputs": [
        {
          "output_type": "display_data",
          "data": {
            "image/png": "[encoded data removed]",
            "text/plain": [
              "<Figure size 432x288 with 1 Axes>"
            ]
          },
          "metadata": {
            "tags": [],
            "needs_background": "light"
          }
        }
      ]
    },
    {
      "cell_type": "code",
      "metadata": {
        "colab": {
          "base_uri": "https://localhost:8080/"
        },
        "id": "hn4bg8j4NtVO",
        "outputId": "68a9dab5-6882-4291-ccb7-dee741bdee5b"
      },
      "source": [
        "print(avgNumber.shape)\n",
        "test5nomean = test5.reshape(784,1) - avgNumber.reshape(784,1)\n",
        "print(test5nomean.shape)\n"
      ],
      "execution_count": 84,
      "outputs": [
        {
          "output_type": "stream",
          "text": [
            "(784,)\n",
            "(784, 1)\n"
          ],
          "name": "stdout"
        }
      ]
    },
    {
      "cell_type": "code",
      "metadata": {
        "id": "bVMMp1R8QBAx"
      },
      "source": [
        "r=10\n",
        "recontruct5 = U[:,:r] @ U[:,:r].T @ test5nomean"
      ],
      "execution_count": 85,
      "outputs": []
    },
    {
      "cell_type": "code",
      "metadata": {
        "colab": {
          "base_uri": "https://localhost:8080/",
          "height": 1000
        },
        "id": "I_ToYiWfOHRV",
        "outputId": "a5f83a6b-e7fd-4b6c-f752-971e9adacf46"
      },
      "source": [
        "r_list = [25, 50, 100, 200, 400]\n",
        "\n",
        "for r in r_list:\n",
        "    recon5 = avgNumber.reshape(784,1) + U[:,:r] @ U[:,:r].T @ test5nomean\n",
        "    img = plt.imshow(np.reshape(recon5, [28,28]))\n",
        "    img.set_cmap('gray')\n",
        "    plt.title('r = ' + str(r))\n",
        "    plt.axis('off')\n",
        "    plt.show()"
      ],
      "execution_count": 106,
      "outputs": [
        {
          "output_type": "display_data",
          "data": {
            "image/png": "[encoded data removed]",
            "text/plain": [
              "<Figure size 432x288 with 1 Axes>"
            ]
          },
          "metadata": {
            "tags": [],
            "needs_background": "light"
          }
        },
        {
          "output_type": "display_data",
          "data": {
            "image/png": "[encoded data removed]",
            "text/plain": [
              "<Figure size 432x288 with 1 Axes>"
            ]
          },
          "metadata": {
            "tags": [],
            "needs_background": "light"
          }
        },
        {
          "output_type": "display_data",
          "data": {
            "image/png": "[encoded data removed]",
            "text/plain": [
              "<Figure size 432x288 with 1 Axes>"
            ]
          },
          "metadata": {
            "tags": [],
            "needs_background": "light"
          }
        },
        {
          "output_type": "display_data",
          "data": {
            "image/png": "[encoded data removed]",
            "text/plain": [
              "<Figure size 432x288 with 1 Axes>"
            ]
          },
          "metadata": {
            "tags": [],
            "needs_background": "light"
          }
        },
        {
          "output_type": "display_data",
          "data": {
            "image/png": "[encoded data removed]",
            "text/plain": [
              "<Figure size 432x288 with 1 Axes>"
            ]
          },
          "metadata": {
            "tags": [],
            "needs_background": "light"
          }
        }
      ]
    }
  ]
}