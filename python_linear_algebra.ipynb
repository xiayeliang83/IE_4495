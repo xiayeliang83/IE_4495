{
  "nbformat": 4,
  "nbformat_minor": 0,
  "metadata": {
    "kernelspec": {
      "display_name": "Python 3",
      "language": "python",
      "name": "python3"
    },
    "language_info": {
      "codemirror_mode": {
        "name": "ipython",
        "version": 3
      },
      "file_extension": ".py",
      "mimetype": "text/x-python",
      "name": "python",
      "nbconvert_exporter": "python",
      "pygments_lexer": "ipython3",
      "version": "3.8.3"
    },
    "colab": {
      "name": "Copy of python_notebook_tutorial.ipynb",
      "provenance": [],
      "include_colab_link": true
    }
  },
  "cells": [
    {
      "cell_type": "markdown",
      "metadata": {
        "id": "view-in-github",
        "colab_type": "text"
      },
      "source": [
        "<a href=\"https://colab.research.google.com/github/yongzhiqu/IE_4495/blob/master/python_linear_algebra.ipynb\" target=\"_parent\"><img src=\"https://colab.research.google.com/assets/colab-badge.svg\" alt=\"Open In Colab\"/></a>"
      ]
    },
    {
      "cell_type": "markdown",
      "metadata": {
        "id": "nCe2wKBIPxJ5"
      },
      "source": [
        "# Overview of Python Notebooks\n",
        "Python notebooks (sometimes called Jupyter notebooks after the Jupyter project that introduced Python notebooks) provide an interactive way to program in the Python programming language. Libraries are available for linear algebra ([numpy](http://www.numpy.org/)), scientific computing ([scipy](https://www.scipy.org/)), plotting ([matplotlib](https://matplotlib.org/)), and symbolic math ([sympy](https://www.sympy.org/en/index.html)). The Jupyter notebook version of Python notebooks and all of these libraries are available for free as open source software. The easiest way to install Jupyter, Python, and these libraries is to install the Anaconda Python Distribution available [here](https://www.anaconda.com/download/). Installers are available for Windows, Mac, and Linux. "
      ]
    },
    {
      "cell_type": "markdown",
      "metadata": {
        "id": "ikfUvRC6PxJ7"
      },
      "source": [
        "# Cell Types\n",
        "\n",
        "There are two primary types of cells in a notebook. A markdown cell, such as this one, contains text that can be used to document your work. A description of the syntax used in markdown cells is [here](http://jupyter-notebook.readthedocs.io/en/latest/examples/Notebook/Working%20With%20Markdown%20Cells.html). To view the markdown that was used to create this cell, double click it.\n",
        "\n",
        "The second primary type of cell is a code cell. Code cells are the default cell type. Code cells can be executed with either Ctrl-Enter or Shift-Enter. Shift-Enter excecutes the current cell and goes to the next cell. Ctrl-Enter executes the current cell and remains on the current cell.\n",
        "\n",
        "Execute the following code cell:"
      ]
    },
    {
      "cell_type": "code",
      "metadata": {
        "tags": [],
        "id": "mFcGWhqsPxJ8",
        "colab": {
          "base_uri": "https://localhost:8080/"
        },
        "outputId": "dfefcb84-d6e2-4f78-e9bd-eb723f99e025"
      },
      "source": [
        "a = 1\n",
        "b = 1\n",
        "\n",
        "print(\"a + b =\", a+b)"
      ],
      "execution_count": null,
      "outputs": [
        {
          "output_type": "stream",
          "text": [
            "a + b = 2\n"
          ],
          "name": "stdout"
        }
      ]
    },
    {
      "cell_type": "markdown",
      "metadata": {
        "id": "BozL2wSWPxJ9"
      },
      "source": [
        "# Notebook Magic Commands\n",
        "\n",
        "Commands specific to the Python notebook environment that are not part of the Python programming language are proceeded by the % symbol. The code cell below contains a magic command that provides that ability to embed plots in the notebook. \n",
        "\n"
      ]
    },
    {
      "cell_type": "code",
      "metadata": {
        "id": "X6oDVqL2PxJ9"
      },
      "source": [
        "%matplotlib inline"
      ],
      "execution_count": null,
      "outputs": []
    },
    {
      "cell_type": "markdown",
      "metadata": {
        "id": "Tgq1A_nDPxJ-"
      },
      "source": [
        "There are numerous magic commands. Some provide access to the underlying operating system. For example, the following magic command lists all of the variables that have been defined during the current session:"
      ]
    },
    {
      "cell_type": "code",
      "metadata": {
        "tags": [],
        "id": "vH0CVNoJPxJ-"
      },
      "source": [
        "%whos"
      ],
      "execution_count": null,
      "outputs": []
    },
    {
      "cell_type": "markdown",
      "metadata": {
        "id": "33_BQBMbPxJ_"
      },
      "source": [
        "The *%magic* command will list all of the available magic commands:"
      ]
    },
    {
      "cell_type": "markdown",
      "metadata": {
        "id": "KVrKEHlpPxJ_"
      },
      "source": [
        "# Importing Python Libraries\n",
        "Numourous libraries are avialable for Python. These libraries need to be imported before they can be used. The following code cell imports the libraries required for ploting (matplotlib), the library required for linear algebra (numpy), and all of Python's built in math functions (math). Execute the following code cell:"
      ]
    },
    {
      "cell_type": "code",
      "metadata": {
        "id": "SoIPzYq4PxKA"
      },
      "source": [
        "import matplotlib.pylab as plt\n",
        "import numpy as np\n",
        "from math import *"
      ],
      "execution_count": null,
      "outputs": []
    },
    {
      "cell_type": "markdown",
      "metadata": {
        "id": "-yY2cBETPxKA"
      },
      "source": [
        "# Using numpy\n",
        "An 2D array can be defined using the following syntax:"
      ]
    },
    {
      "cell_type": "code",
      "metadata": {
        "tags": [],
        "id": "F8dY0NBaPxKA",
        "colab": {
          "base_uri": "https://localhost:8080/"
        },
        "outputId": "d6411c7b-f852-46fa-dcb8-1da076243684"
      },
      "source": [
        "my_array = np.array([[1,2],[3,4]])\n",
        "print(my_array)"
      ],
      "execution_count": null,
      "outputs": [
        {
          "output_type": "stream",
          "text": [
            "[[1 2]\n",
            " [3 4]]\n"
          ],
          "name": "stdout"
        }
      ]
    },
    {
      "cell_type": "markdown",
      "metadata": {
        "id": "rKQYleunPxKA"
      },
      "source": [
        "A vector can be defined using the following syntax:"
      ]
    },
    {
      "cell_type": "code",
      "metadata": {
        "tags": [],
        "id": "iAuejGK1PxKB",
        "colab": {
          "base_uri": "https://localhost:8080/"
        },
        "outputId": "1ec29e95-3cbc-4777-e1f1-dbb71f32e3b7"
      },
      "source": [
        "my_vector = np.array([1,2])\n",
        "print(my_vector)"
      ],
      "execution_count": null,
      "outputs": [
        {
          "output_type": "stream",
          "text": [
            "[1 2]\n"
          ],
          "name": "stdout"
        }
      ]
    },
    {
      "cell_type": "code",
      "metadata": {
        "id": "RnSvPh7Ghls0"
      },
      "source": [
        "x = np.arange(10)\n",
        "print(x)\n",
        "print (x[0])\n",
        "print (x[5])"
      ],
      "execution_count": null,
      "outputs": []
    },
    {
      "cell_type": "code",
      "metadata": {
        "id": "yxCUvt-hhq5n",
        "colab": {
          "base_uri": "https://localhost:8080/"
        },
        "outputId": "a0a57c0b-1ce4-4978-f12f-e604bc0b1e63"
      },
      "source": [
        "A = [[1, 4, 5], [-5, 8, 9], [-6, 7, 11]]\n",
        "A = np.array (A)\n",
        "transpose_A = A.transpose()\n",
        "\n",
        "transpose_A2 = np.transpose(A)\n",
        "\n",
        "print (transpose_A)\n",
        "\n",
        "print (transpose_A2)"
      ],
      "execution_count": null,
      "outputs": [
        {
          "output_type": "stream",
          "text": [
            "[[ 1 -5 -6]\n",
            " [ 4  8  7]\n",
            " [ 5  9 11]]\n",
            "[[ 1 -5 -6]\n",
            " [ 4  8  7]\n",
            " [ 5  9 11]]\n"
          ],
          "name": "stdout"
        }
      ]
    },
    {
      "cell_type": "code",
      "metadata": {
        "id": "6ghopBLoiOzH",
        "colab": {
          "base_uri": "https://localhost:8080/"
        },
        "outputId": "93933a71-2b2f-483d-f851-04ba6ce04eb3"
      },
      "source": [
        "eig_A=np.linalg.eig(A)\n",
        "eig_A"
      ],
      "execution_count": null,
      "outputs": [
        {
          "output_type": "execute_result",
          "data": {
            "text/plain": [
              "(array([13.59373746,  5.03209301,  1.37416954]),\n",
              " array([[ 0.45145779,  0.83661458,  0.10258363],\n",
              "        [ 0.62348353,  0.44632316, -0.77299039],\n",
              "        [ 0.63832135,  0.31760303,  0.62606905]]))"
            ]
          },
          "metadata": {
            "tags": []
          },
          "execution_count": 4
        }
      ]
    },
    {
      "cell_type": "code",
      "metadata": {
        "id": "pUwqxgN-iP7a",
        "colab": {
          "base_uri": "https://localhost:8080/"
        },
        "outputId": "d0b93b2e-a4ca-4dbe-dfdd-93823c22bc37"
      },
      "source": [
        "a = np.zeros((2,2))   # Create an array of all zeros\n",
        "print(a)              # Prints \"[[ 0.  0.]\n",
        "                      #          [ 0.  0.]]\"\n",
        "\n",
        "b = np.ones((1,2))    # Create an array of all ones\n",
        "print(b)              # Prints \"[[ 1.  1.]]\"\n",
        "\n",
        "c = np.full((2,2), 7)  # Create a constant array\n",
        "print(c)               # Prints \"[[ 7.  7.]\n",
        "                       #          [ 7.  7.]]\"\n",
        "\n",
        "d = np.eye(2)         # Create a 2x2 identity matrix\n",
        "print(d)              # Prints \"[[ 1.  0.]\n",
        "                      #          [ 0.  1.]]\"\n",
        "\n",
        "e = np.random.random((2,2))  # Create an array filled with random values\n",
        "print(e)                     # Might print \"[[ 0.91940167  0.08143941]\n",
        "                             #               [ 0.68744134  0.87236687]]\""
      ],
      "execution_count": null,
      "outputs": [
        {
          "output_type": "stream",
          "text": [
            "[[0. 0.]\n",
            " [0. 0.]]\n",
            "[[1. 1.]]\n",
            "[[7 7]\n",
            " [7 7]]\n",
            "[[1. 0.]\n",
            " [0. 1.]]\n",
            "[[0.66590177 0.58281732]\n",
            " [0.10757082 0.74598647]]\n"
          ],
          "name": "stdout"
        }
      ]
    },
    {
      "cell_type": "markdown",
      "metadata": {
        "id": "JelUPhKTPxKB"
      },
      "source": [
        "Note that the numpy library does not make a distinction between column and row vectors. Matrix multiplication can be performed using the following syntax:"
      ]
    },
    {
      "cell_type": "code",
      "metadata": {
        "tags": [],
        "id": "ZEEoHJj2PxKB",
        "colab": {
          "base_uri": "https://localhost:8080/"
        },
        "outputId": "fa5eb403-fe02-41bf-a6c3-3ca39c522a62"
      },
      "source": [
        "result = my_array.dot(my_vector)\n",
        "print(result)"
      ],
      "execution_count": null,
      "outputs": [
        {
          "output_type": "stream",
          "text": [
            "[ 5 11]\n"
          ],
          "name": "stdout"
        }
      ]
    },
    {
      "cell_type": "markdown",
      "metadata": {
        "id": "oTR0rKndPxKC"
      },
      "source": [
        "Or, equivalently, with the following syntax:"
      ]
    },
    {
      "cell_type": "code",
      "metadata": {
        "tags": [],
        "id": "nmao0g3lPxKC",
        "colab": {
          "base_uri": "https://localhost:8080/"
        },
        "outputId": "6974c999-69b1-46d7-fb12-63c2273924fc"
      },
      "source": [
        "result = np.dot(my_array,my_vector)\n",
        "print(result)"
      ],
      "execution_count": null,
      "outputs": [
        {
          "output_type": "stream",
          "text": [
            "[ 5 11]\n"
          ],
          "name": "stdout"
        }
      ]
    },
    {
      "cell_type": "markdown",
      "metadata": {
        "id": "dzbWNjErPxKC"
      },
      "source": [
        "Note that the multiplication operator performs an element-wise matrix opperation rather than a matrix multiplication. Because of this, the following is not equivalent to a matrix multiplication."
      ]
    },
    {
      "cell_type": "code",
      "metadata": {
        "tags": [],
        "id": "lmWn1QKrPxKD",
        "colab": {
          "base_uri": "https://localhost:8080/"
        },
        "outputId": "aa3494c5-b01c-4fd9-88ef-5b956c3f69f8"
      },
      "source": [
        "result = my_array*my_vector\n",
        "print(result)"
      ],
      "execution_count": null,
      "outputs": [
        {
          "output_type": "stream",
          "text": [
            "[[1 4]\n",
            " [3 8]]\n"
          ],
          "name": "stdout"
        }
      ]
    },
    {
      "cell_type": "code",
      "metadata": {
        "id": "-QsMIBachhDn",
        "colab": {
          "base_uri": "https://localhost:8080/"
        },
        "outputId": "0d78bc7a-a8f3-4c2b-9bb3-d05b619e36de"
      },
      "source": [
        "x = np.array([[1,2],[3,4]]) \n",
        "x.astype(float)\n",
        "y = np.linalg.inv(x) \n",
        "y.astype(float)\n",
        "print (x) \n",
        "print (y) \n",
        "print (x*y)\n",
        "w=np.dot(x,y)\n",
        "print(w)\n",
        "\n",
        "print ('**********I am the separation line ************')\n",
        "z = np.matmul(x,y)\n",
        "print(z)"
      ],
      "execution_count": null,
      "outputs": [
        {
          "output_type": "stream",
          "text": [
            "[[1 2]\n",
            " [3 4]]\n",
            "[[-2.   1. ]\n",
            " [ 1.5 -0.5]]\n",
            "[[-2.   2. ]\n",
            " [ 4.5 -2. ]]\n",
            "[[1.0000000e+00 0.0000000e+00]\n",
            " [8.8817842e-16 1.0000000e+00]]\n",
            "**********I am the separation line ************\n",
            "[[1.0000000e+00 0.0000000e+00]\n",
            " [8.8817842e-16 1.0000000e+00]]\n"
          ],
          "name": "stdout"
        }
      ]
    },
    {
      "cell_type": "markdown",
      "metadata": {
        "id": "1kDUBTdzPxKE"
      },
      "source": [
        "Square brackets can be used to access individual elements of a array. The first index is the row and the second index is the column. Note that indices in Python start at 0 and not 1."
      ]
    },
    {
      "cell_type": "code",
      "metadata": {
        "tags": [],
        "id": "eeTv1l_YPxKE"
      },
      "source": [
        "print(my_array[0,1]) # print the array element at the 0 row and the 1 column"
      ],
      "execution_count": null,
      "outputs": []
    },
    {
      "cell_type": "markdown",
      "metadata": {
        "id": "lMHnG6p8PxKE"
      },
      "source": [
        "An entire row or column can be indexed by using the colon for the position where you want all of the values. See the following examples:"
      ]
    },
    {
      "cell_type": "code",
      "metadata": {
        "tags": [],
        "id": "l1ELaKp-PxKE"
      },
      "source": [
        "print(\"Column 0: \", my_array[:,0]) # print the first column\n",
        "print(\"Row 1: \", my_array[1,:]) # print the second row"
      ],
      "execution_count": null,
      "outputs": []
    },
    {
      "cell_type": "markdown",
      "metadata": {
        "id": "9bFqJEcVPxKF"
      },
      "source": [
        "For a numpy vector, the Python index slicing format can be used to access ranges of values. See the examples below:"
      ]
    },
    {
      "cell_type": "code",
      "metadata": {
        "tags": [],
        "id": "rmP4a61gPxKF",
        "colab": {
          "base_uri": "https://localhost:8080/"
        },
        "outputId": "9b2ecd2b-32d5-45a6-a7b9-1a9178410112"
      },
      "source": [
        "my_second_vector = np.array([0,1,2,3,4,5,6,7,8,9])\n",
        "\n",
        "print(\"First 2 elements of the vector: \", my_second_vector[:2])\n",
        "\n",
        "print(\"The last element of the vector: \", my_second_vector[-1])\n",
        "\n",
        "print(\"The second through third elements of the vector: \", my_second_vector[1:3])\n",
        "\n",
        "print(\"Skip every other element of the vector: \", my_second_vector[0:10:2])\n"
      ],
      "execution_count": null,
      "outputs": [
        {
          "output_type": "stream",
          "text": [
            "First 2 elements of the vector:  [0 1]\n",
            "The last element of the vector:  9\n",
            "The second through third elements of the vector:  [1 2]\n",
            "Skip every other element of the vector:  [0 2 4 6 8]\n"
          ],
          "name": "stdout"
        }
      ]
    },
    {
      "cell_type": "code",
      "metadata": {
        "id": "No8AzY3ihfRs",
        "colab": {
          "base_uri": "https://localhost:8080/"
        },
        "outputId": "49373f80-bbf9-4355-9635-7a187e5a555d"
      },
      "source": [
        "A = [[1, 4, 5, 12], \n",
        "    [-5, 8, 9, 0],\n",
        "    [-6, 7, 11, 19]]\n",
        "\n",
        "print(\"A =\", A) \n",
        "print(\"A_secons_col_row1st =\", A[0][2]) \n",
        "print(\"A[0] =\", A[0])      # 2nd row\n",
        "print(\"A[1][2] =\", A[1][2])   # 3rd element of 2nd row\n",
        "print(\"A[0][-2] =\", A[0][-2])   # Last element of 1st Row\n",
        "\n",
        "column = [];        # empty list\n",
        "for row in A:\n",
        "  column.append(row[2])   \n",
        "\n",
        "print(\"3rd column =\", column)"
      ],
      "execution_count": null,
      "outputs": [
        {
          "output_type": "stream",
          "text": [
            "A = [[1, 4, 5, 12], [-5, 8, 9, 0], [-6, 7, 11, 19]]\n",
            "A_secons_col_row1st = 5\n",
            "A[0] = [1, 4, 5, 12]\n",
            "A[1][2] = 9\n",
            "A[0][-2] = 5\n",
            "3rd column = [5, 9, 11]\n"
          ],
          "name": "stdout"
        }
      ]
    },
    {
      "cell_type": "markdown",
      "metadata": {
        "id": "q1HtJhCdPxKG"
      },
      "source": [
        "A numpy tutorial can be found [here](http://docs.scipy.org/doc/numpy/user/quickstart.html). If you're familiar with Matlab, a numpy tutorial for Matlab users is available [here](https://docs.scipy.org/doc/numpy/user/numpy-for-matlab-users.html)."
      ]
    },
    {
      "cell_type": "markdown",
      "metadata": {
        "id": "eYSVN2jVPxKG"
      },
      "source": [
        "# Plotting using matplotlib\n",
        "\n",
        "The matplotlib library provides plotting capabilities to the Python notebook. A syntax similar to Matlab is used. A matplotlib tuorial is available [here](http://matplotlib.org/users/pyplot_tutorial.html). The following command plots a sine function."
      ]
    },
    {
      "cell_type": "code",
      "metadata": {
        "id": "BRl1P5doPxKG",
        "colab": {
          "base_uri": "https://localhost:8080/",
          "height": 312
        },
        "outputId": "252d6484-3e5b-4976-fd57-59460778dcb2"
      },
      "source": [
        "fig = plt.figure() # create a new figure\n",
        "\n",
        "time = np.linspace(0,2*pi)   # This numpy linspace function returns a vector of evenly spaced values between 0 and 2*pi\n",
        "plt.plot(time,np.sin(time))  # The numpy sin function is used since it can handle vector inputs\n",
        "plt.plot(time,np.cos(time))\n",
        "\n",
        "# The following commands add axis labels and a title to the plot\n",
        "plt.title('Plot of sine and cosine functions')\n",
        "plt.xlabel('Time')\n",
        "plt.ylabel('Amplitude')"
      ],
      "execution_count": null,
      "outputs": [
        {
          "output_type": "execute_result",
          "data": {
            "text/plain": [
              "Text(0, 0.5, 'Amplitude')"
            ]
          },
          "metadata": {
            "tags": []
          },
          "execution_count": 13
        },
        {
          "output_type": "display_data",
          "data": {
            "image/png": "[encoded data removed]",
            "text/plain": [
              "<Figure size 432x288 with 1 Axes>"
            ]
          },
          "metadata": {
            "tags": [],
            "needs_background": "light"
          }
        }
      ]
    },
    {
      "cell_type": "markdown",
      "metadata": {
        "collapsed": true,
        "id": "k7ewjPqcPxKG"
      },
      "source": [
        "# Symbolic Math\n",
        "The sympy library addes symbolic math capabilities to the Python notebook such as integration and differentiation. Below are a couple of simple examples. A sympy tutorial is available [here](http://docs.sympy.org/latest/tutorial/index.html)."
      ]
    },
    {
      "cell_type": "code",
      "metadata": {
        "id": "z8uWKGYjPxKH",
        "colab": {
          "base_uri": "https://localhost:8080/",
          "height": 38
        },
        "outputId": "7a940a05-96b1-4a93-d83b-0acee1200532"
      },
      "source": [
        "import sympy as sp  # import the sympy library\n",
        "sp.init_printing()  # printing equations using mathematical notion in the Python notebook\n",
        "\n",
        "x,y,z = sp.symbols('x,y,z') # define symbolic variables x, y, and z\n",
        "\n",
        "sp.integrate(sp.cos(x)) # Take the integral of cos(x)"
      ],
      "execution_count": null,
      "outputs": [
        {
          "output_type": "execute_result",
          "data": {
            "image/png": "[encoded data removed]",
            "text/latex": "$$\\sin{\\left (x \\right )}$$",
            "text/plain": [
              "sin(x)"
            ]
          },
          "metadata": {
            "tags": []
          },
          "execution_count": 14
        }
      ]
    },
    {
      "cell_type": "code",
      "metadata": {
        "id": "Qc2KxWYnPxKH",
        "colab": {
          "base_uri": "https://localhost:8080/",
          "height": 38
        },
        "outputId": "3c7b4aa2-4de8-4b3c-b4f8-6ab2403de7b2"
      },
      "source": [
        "sp.diff(sp.sin(x),x) # Take the defivative of sine(x)"
      ],
      "execution_count": null,
      "outputs": [
        {
          "output_type": "execute_result",
          "data": {
            "image/png": "[encoded data removed]",
            "text/latex": "$$\\cos{\\left (x \\right )}$$",
            "text/plain": [
              "cos(x)"
            ]
          },
          "metadata": {
            "tags": []
          },
          "execution_count": 15
        }
      ]
    },
    {
      "cell_type": "code",
      "metadata": {
        "id": "8-JHEfk5PxKI",
        "colab": {
          "base_uri": "https://localhost:8080/",
          "height": 407
        },
        "outputId": "e62f6c3a-56ff-4628-fbc6-e33636fc2d6c"
      },
      "source": [
        "sp.plot(sp.sin(x),(x,0,2*pi)) # plot a sympolic function for 0 <= x <= 2*pi"
      ],
      "execution_count": null,
      "outputs": [
        {
          "output_type": "stream",
          "text": [
            "/usr/local/lib/python3.6/dist-packages/sympy/plotting/plot.py:890: MatplotlibDeprecationWarning: \n",
            "The set_smart_bounds function was deprecated in Matplotlib 3.2 and will be removed two minor releases later.\n",
            "  self.ax.spines['left'].set_smart_bounds(True)\n",
            "/usr/local/lib/python3.6/dist-packages/sympy/plotting/plot.py:891: MatplotlibDeprecationWarning: \n",
            "The set_smart_bounds function was deprecated in Matplotlib 3.2 and will be removed two minor releases later.\n",
            "  self.ax.spines['bottom'].set_smart_bounds(False)\n"
          ],
          "name": "stderr"
        },
        {
          "output_type": "display_data",
          "data": {
            "image/png": "[encoded data removed]",
            "text/plain": [
              "<Figure size 432x288 with 1 Axes>"
            ]
          },
          "metadata": {
            "tags": [],
            "needs_background": "light"
          }
        },
        {
          "output_type": "execute_result",
          "data": {
            "text/plain": [
              "<sympy.plotting.plot.Plot at 0x7fef0b595d30>"
            ]
          },
          "metadata": {
            "tags": []
          },
          "execution_count": 16
        }
      ]
    },
    {
      "cell_type": "code",
      "metadata": {
        "id": "QTu7uVXVPxKI"
      },
      "source": [
        "def findmaximum(x):\n",
        "  "
      ],
      "execution_count": null,
      "outputs": []
    },
    {
      "cell_type": "code",
      "metadata": {
        "colab": {
          "base_uri": "https://localhost:8080/"
        },
        "id": "HDFAYnsyj3x9",
        "outputId": "f0bcce9d-1c89-465c-992d-f979b4419aa7"
      },
      "source": [
        "import numpy as np\n",
        "input = np.array([[3,5,6], [1,2,2], [1,6,-2]])\n",
        "output = np.array([10,13,2])\n",
        "print(input)\n",
        "print(output)"
      ],
      "execution_count": null,
      "outputs": [
        {
          "output_type": "stream",
          "text": [
            "[[ 3  5  6]\n",
            " [ 1  2  2]\n",
            " [ 1  6 -2]]\n",
            "[10 13  2]\n"
          ],
          "name": "stdout"
        }
      ]
    },
    {
      "cell_type": "code",
      "metadata": {
        "colab": {
          "base_uri": "https://localhost:8080/"
        },
        "id": "w54CIlZUkplI",
        "outputId": "9a0cca58-7972-4864-870d-fe23dd606359"
      },
      "source": [
        "coff=np.matmul(np.linalg.inv(input),output)\n",
        "coff"
      ],
      "execution_count": null,
      "outputs": [
        {
          "output_type": "execute_result",
          "data": {
            "text/plain": [
              "array([-108.5 ,   29.  ,   31.75])"
            ]
          },
          "metadata": {
            "tags": []
          },
          "execution_count": 25
        }
      ]
    },
    {
      "cell_type": "code",
      "metadata": {
        "colab": {
          "base_uri": "https://localhost:8080/"
        },
        "id": "UhO74VwTlKad",
        "outputId": "fbf6ea17-3feb-4a91-8183-76723c2df1b5"
      },
      "source": [
        "predictY = np.matmul(input,coff)\n",
        "predictY"
      ],
      "execution_count": null,
      "outputs": [
        {
          "output_type": "execute_result",
          "data": {
            "text/plain": [
              "array([10., 13.,  2.])"
            ]
          },
          "metadata": {
            "tags": []
          },
          "execution_count": 26
        }
      ]
    },
    {
      "cell_type": "code",
      "metadata": {
        "colab": {
          "base_uri": "https://localhost:8080/"
        },
        "id": "X2hmxvYnlhgR",
        "outputId": "3487d0e5-caf2-430e-aaa1-87f5e5dee53b"
      },
      "source": [
        "input2 = np.array([[3,4,6],[1,2,3],[4, -4, 10]])\n",
        "input2\n"
      ],
      "execution_count": null,
      "outputs": [
        {
          "output_type": "execute_result",
          "data": {
            "text/plain": [
              "array([[ 3,  4,  6],\n",
              "       [ 1,  2,  3],\n",
              "       [ 4, -4, 10]])"
            ]
          },
          "metadata": {
            "tags": []
          },
          "execution_count": 36
        }
      ]
    },
    {
      "cell_type": "code",
      "metadata": {
        "colab": {
          "base_uri": "https://localhost:8080/"
        },
        "id": "sMgCLH5gl3ds",
        "outputId": "750d3305-7fd0-4693-8cd8-5bdd1a7d765d"
      },
      "source": [
        "output2 = np.matmul(input2,coff)\n",
        "output2"
      ],
      "execution_count": null,
      "outputs": [
        {
          "output_type": "execute_result",
          "data": {
            "text/plain": [
              "array([ -19.  ,   44.75, -232.5 ])"
            ]
          },
          "metadata": {
            "tags": []
          },
          "execution_count": 37
        }
      ]
    }
  ]
}