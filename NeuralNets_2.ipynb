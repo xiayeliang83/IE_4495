{
  "nbformat": 4,
  "nbformat_minor": 0,
  "metadata": {
    "colab": {
      "name": "NeuralNets_2.ipynb",
      "provenance": [],
      "collapsed_sections": [],
      "include_colab_link": true
    },
    "kernelspec": {
      "display_name": "Python 3",
      "language": "python",
      "name": "python3"
    },
    "language_info": {
      "codemirror_mode": {
        "name": "ipython",
        "version": 3
      },
      "file_extension": ".py",
      "mimetype": "text/x-python",
      "name": "python",
      "nbconvert_exporter": "python",
      "pygments_lexer": "ipython3",
      "version": "3.6.10"
    }
  },
  "cells": [
    {
      "cell_type": "markdown",
      "metadata": {
        "id": "view-in-github",
        "colab_type": "text"
      },
      "source": [
        "<a href=\"https://colab.research.google.com/github/yongzhiqu/IE_4495/blob/master/NeuralNets_2.ipynb\" target=\"_parent\"><img src=\"https://colab.research.google.com/assets/colab-badge.svg\" alt=\"Open In Colab\"/></a>"
      ]
    },
    {
      "cell_type": "code",
      "metadata": {
        "id": "rOlZT6pl32Kz"
      },
      "source": [
        "# implementation of a neural network\n",
        "import numpy as np"
      ],
      "execution_count": 3,
      "outputs": []
    },
    {
      "cell_type": "code",
      "metadata": {
        "id": "_SDGshrV4H_l"
      },
      "source": [
        "def generateNeuralNet(shape):\n",
        "    neuralNet = []\n",
        "    for i in range(len(shape)-1):\n",
        "        #neuralNet.append(np.random.random((shape[i+1],shape[i])))\n",
        "        neuralNet.append(np.random.random((shape[i+1],shape[i]+1))*2-1)\n",
        "    return neuralNet"
      ],
      "execution_count": 4,
      "outputs": []
    },
    {
      "cell_type": "code",
      "metadata": {
        "id": "c9kFrI0q7oQd"
      },
      "source": [
        "# now do feedforward for the neural network we just created\n",
        "def applyneuralNet(neuralNet, input):\n",
        "    values = []\n",
        "    values.append(input)\n",
        "    for i in range(len(neuralNet)):\n",
        "        z = neuralNet[i]@np.append(values[i],1)\n",
        "        activation = 1/(1 + np.exp(-z)) \n",
        "        values.append(activation)\n",
        "    return values"
      ],
      "execution_count": 5,
      "outputs": []
    },
    {
      "cell_type": "code",
      "metadata": {
        "colab": {
          "base_uri": "https://localhost:8080/"
        },
        "id": "lCLIFHyY6HXK",
        "outputId": "0ea34b32-7eed-4430-ad6f-5fee65daeffa"
      },
      "source": [
        "# test function generateNeuralNet()\n",
        "my_net = generateNeuralNet([10,5,2])\n",
        "print(my_net)\n",
        "for l in my_net:\n",
        "    print(l.shape)"
      ],
      "execution_count": 6,
      "outputs": [
        {
          "output_type": "stream",
          "text": [
            "[array([[-0.81715282, -0.19414484, -0.33444855,  0.26114953,  0.39702071,\n",
            "         0.16951564, -0.89077598,  0.9018282 ,  0.71029143, -0.47348378,\n",
            "         0.00695593],\n",
            "       [-0.87082056, -0.96894715, -0.6768571 ,  0.86556543, -0.47970267,\n",
            "        -0.03958634,  0.73130572,  0.35223209, -0.75141061, -0.91521701,\n",
            "         0.90831749],\n",
            "       [-0.670493  , -0.55421556, -0.99759919, -0.69901391, -0.7311542 ,\n",
            "        -0.22856194, -0.9657784 ,  0.26745805, -0.2157682 ,  0.89445625,\n",
            "         0.26344682],\n",
            "       [ 0.50489291, -0.38444158, -0.35494042, -0.42812728, -0.56018922,\n",
            "         0.21238176, -0.50586192, -0.5406602 ,  0.70590456, -0.69434625,\n",
            "        -0.89026392],\n",
            "       [ 0.28580799, -0.28182055, -0.45147803,  0.63721424,  0.98268415,\n",
            "         0.60728175,  0.64251514, -0.51893801, -0.96484284,  0.12410752,\n",
            "        -0.54984297]]), array([[-0.07846743, -0.18838548,  0.18007236, -0.24682982,  0.25516671,\n",
            "         0.98298535],\n",
            "       [-0.97039432,  0.76593118,  0.17023792,  0.52891925,  0.30838237,\n",
            "         0.1738516 ]])]\n",
            "(5, 11)\n",
            "(2, 6)\n"
          ],
          "name": "stdout"
        }
      ]
    },
    {
      "cell_type": "code",
      "metadata": {
        "id": "-Ax-G0Lf9Di0"
      },
      "source": [
        "# test feedforward for neural network\n",
        "\n",
        "my_shape = [10,6,3,10]\n",
        "my_net = generateNeuralNet(my_shape)"
      ],
      "execution_count": 7,
      "outputs": []
    },
    {
      "cell_type": "code",
      "metadata": {
        "id": "WHqhD3GwO4IH"
      },
      "source": [
        "import random\n",
        "test_input = np.array([random.randrange(0, 9) for p in range(0, 10)])"
      ],
      "execution_count": 8,
      "outputs": []
    },
    {
      "cell_type": "code",
      "metadata": {
        "colab": {
          "base_uri": "https://localhost:8080/"
        },
        "id": "GKLbIVJbO7LM",
        "outputId": "044c2112-daa8-4fb5-b22f-d69298490935"
      },
      "source": [
        "my_networks_value = applyneuralNet(my_net, test_input)\n",
        "print(my_networks_value)\n",
        "for l in my_networks_value:\n",
        "    print(l.shape)\n"
      ],
      "execution_count": 9,
      "outputs": [
        {
          "output_type": "stream",
          "text": [
            "[array([4, 8, 4, 8, 8, 0, 4, 5, 6, 4]), array([9.94338753e-01, 9.15775565e-01, 4.98514242e-01, 2.66245113e-04,\n",
            "       8.23769494e-01, 9.97870637e-01]), array([0.49495048, 0.30590355, 0.81675103]), array([0.67781741, 0.70409654, 0.35961607, 0.62069646, 0.6404335 ,\n",
            "       0.365081  , 0.43219048, 0.71412071, 0.38390456, 0.25946451])]\n",
            "(10,)\n",
            "(6,)\n",
            "(3,)\n",
            "(10,)\n"
          ],
          "name": "stdout"
        }
      ]
    },
    {
      "cell_type": "code",
      "metadata": {
        "id": "cAVkrvSoQ4y_"
      },
      "source": [
        "def trainNeuralNet(neuralNet, input, output, iterations):\n",
        "    learningrate = 0.008\n",
        "    theta = 10e-4\n",
        "    total_error = np.inf\n",
        "\n",
        "    for i in range(iterations):\n",
        "\n",
        "        if total_error < theta:\n",
        "           break\n",
        "\n",
        "        values = applyneuralNet(neuralNet, input)\n",
        "        total_error = np.mean(np.abs(values[-1] - output))\n",
        "        error = values[-1] - output\n",
        "\n",
        "        # if i % 500 == 0:\n",
        "        #     print('total_error at', i, ' = ',  total_error)\n",
        "\n",
        "        for j in range(len(neuralNet)-1,-1,-1):\n",
        "            layerout = values[j+1]\n",
        "            layerin = values[j]\n",
        "            delta = (layerout * (1 - layerout)) * error\n",
        "\n",
        "            error = np.dot((neuralNet[j][:,:-1]).transpose(), delta)\n",
        "\n",
        "            neuralNet[j][:,:-1] = neuralNet[j][:,:-1] - learningrate * np.dot(np.transpose([delta]),[layerin],) # r by 1 * 1 * k = r*k\n",
        "            neuralNet[j][:,-1] = neuralNet[j][:,-1] - (learningrate * delta).transpose()\n",
        "\n",
        "    return neuralNet\n",
        "\n",
        "\n"
      ],
      "execution_count": 10,
      "outputs": []
    },
    {
      "cell_type": "code",
      "metadata": {
        "id": "DKOve_8N0EGW"
      },
      "source": [
        "my_shape = [100,50,10,3]\n",
        "my_net = generateNeuralNet(my_shape)\n",
        "test_input = np.array([random.randrange(0, 9) for p in range(0, 100)])\n",
        "test_out = np.array([0.05,0.3,0.95])\n"
      ],
      "execution_count": 11,
      "outputs": []
    },
    {
      "cell_type": "code",
      "metadata": {
        "colab": {
          "base_uri": "https://localhost:8080/"
        },
        "id": "g3-FJaDe2c3N",
        "outputId": "e7d4e840-a720-449f-e514-9af20bc8b15a"
      },
      "source": [
        "print(my_net[-1])\n",
        "my_trained_Net = trainNeuralNet(my_net, test_input, test_out, 100)\n",
        "\n",
        "my_value = applyneuralNet(my_trained_Net, test_input)\n",
        "print(my_value[-1])"
      ],
      "execution_count": 12,
      "outputs": [
        {
          "output_type": "stream",
          "text": [
            "[[ 0.46929254  0.12870859 -0.41591874  0.85582014 -0.35375352 -0.70033861\n",
            "  -0.57204353  0.71810853 -0.63305964  0.74508532  0.10284406]\n",
            " [-0.94008895  0.49955218  0.7729905  -0.50137184  0.17769997 -0.98599467\n",
            "  -0.41874059  0.45566787  0.98618506 -0.1831211  -0.41337083]\n",
            " [-0.30875277 -0.00281609 -0.64949511  0.087245    0.7847402   0.68169621\n",
            "  -0.24488417  0.70786461  0.5600192  -0.88803112 -0.09444948]]\n",
            "[0.23279526 0.36987757 0.76814555]\n"
          ],
          "name": "stdout"
        }
      ]
    },
    {
      "cell_type": "code",
      "metadata": {
        "id": "SFg-f26w_SsE",
        "outputId": "4ecd1d14-f0a4-497b-8fd6-a271017ecf32",
        "colab": {
          "base_uri": "https://localhost:8080/"
        }
      },
      "source": [
        "import tensorflow as tf\n",
        "from tensorflow import keras\n",
        "import numpy as np\n",
        "import os\n",
        "from matplotlib import pyplot as plt\n",
        "\n",
        "mnist = tf.keras.datasets.mnist\n",
        "\n",
        "(training_images, training_labels), (test_images, test_labels) = mnist.load_data()"
      ],
      "execution_count": 13,
      "outputs": [
        {
          "output_type": "stream",
          "text": [
            "Downloading data from https://storage.googleapis.com/tensorflow/tf-keras-datasets/mnist.npz\n",
            "11493376/11490434 [==============================] - 0s 0us/step\n"
          ],
          "name": "stdout"
        }
      ]
    },
    {
      "cell_type": "code",
      "metadata": {
        "id": "a6j9EF8nxqrb"
      },
      "source": [
        "N=60000\n",
        "trainingData_N = training_images[:N]\n",
        "traininglabel_N = training_labels[:N]"
      ],
      "execution_count": 23,
      "outputs": []
    },
    {
      "cell_type": "code",
      "metadata": {
        "id": "NGHatyOCKGDL"
      },
      "source": [
        "def normalize(data):\n",
        "    return (data-np.min(data))/(np.max(data)-np.min(data))"
      ],
      "execution_count": 24,
      "outputs": []
    },
    {
      "cell_type": "code",
      "metadata": {
        "id": "9bT0APl-yB9T",
        "outputId": "f5c9b0a9-1d12-43ee-9681-0d2aed68d423",
        "colab": {
          "base_uri": "https://localhost:8080/"
        }
      },
      "source": [
        "from keras.utils import to_categorical\n",
        "trainingData_N = trainingData_N.reshape(N,784)\n",
        "#traininglabel_N = traininglabel_2000/10.0\n",
        "trainingData_N = normalize(trainingData_N)\n",
        "\n",
        "from keras.utils import to_categorical\n",
        "print(traininglabel_N[:10])\n",
        "traininglabel_N_cat = to_categorical(traininglabel_N)\n",
        "\n",
        "n=2000\n",
        "testing_imageN = training_images[10000:10000+n]\n",
        "testing_imageN = normalize(testing_imageN)\n",
        "testing_imageN = testing_imageN.reshape(n,784)\n",
        "testing_labelN = training_labels[10000:10000+n]\n",
        "testing_labelN_cat = to_categorical(testing_labelN)\n",
        "\n",
        "for i in range (10):\n",
        "    print(np.argmax(traininglabel_N_cat[i]))\n"
      ],
      "execution_count": 26,
      "outputs": [
        {
          "output_type": "stream",
          "text": [
            "[5 0 4 1 9 2 1 3 1 4]\n",
            "5\n",
            "0\n",
            "4\n",
            "1\n",
            "9\n",
            "2\n",
            "1\n",
            "3\n",
            "1\n",
            "4\n"
          ],
          "name": "stdout"
        }
      ]
    },
    {
      "cell_type": "code",
      "metadata": {
        "colab": {
          "base_uri": "https://localhost:8080/"
        },
        "id": "PDjHBwT9x8Ux",
        "outputId": "0dcb93b5-34a9-4e5e-dcf6-79100305fd72"
      },
      "source": [
        "my_shape = [784,128,50,10]\n",
        "MNIST_net = generateNeuralNet(my_shape)\n",
        "N=60000\n",
        "\n",
        "print(traininglabel_N[:10])\n",
        "\n",
        "epoch = 1\n",
        "for k in range(epoch):\n",
        "    for i in range(N):\n",
        "        MNIST_net = trainNeuralNet(MNIST_net, trainingData_N[i], traininglabel_N_cat[i], 5)\n"
      ],
      "execution_count": 29,
      "outputs": [
        {
          "output_type": "stream",
          "text": [
            "[5 0 4 1 9 2 1 3 1 4]\n"
          ],
          "name": "stdout"
        }
      ]
    },
    {
      "cell_type": "code",
      "metadata": {
        "colab": {
          "base_uri": "https://localhost:8080/"
        },
        "id": "xIfXWFEruT_k",
        "outputId": "b9169ddc-d84b-49c8-dae5-b5cd738b1d47"
      },
      "source": [
        "n=20\n",
        "pred_output = np.ones([n,10])\n",
        "\n",
        "MNIST_value = []\n",
        "for j in range(n):\n",
        "    MNIST_value.append(applyneuralNet(MNIST_net, trainingData_N[j]))\n",
        "    pred_output[j] = MNIST_value[j][-1]\n",
        "    print('true label =', traininglabel_N[j])\n",
        "    print('pred label =',np.argmax(np.round(pred_output[j])))\n",
        "\n"
      ],
      "execution_count": 36,
      "outputs": [
        {
          "output_type": "stream",
          "text": [
            "true label = 5\n",
            "pred label = 5\n",
            "true label = 0\n",
            "pred label = 0\n",
            "true label = 4\n",
            "pred label = 4\n",
            "true label = 1\n",
            "pred label = 1\n",
            "true label = 9\n",
            "pred label = 9\n",
            "true label = 2\n",
            "pred label = 2\n",
            "true label = 1\n",
            "pred label = 1\n",
            "true label = 3\n",
            "pred label = 3\n",
            "true label = 1\n",
            "pred label = 1\n",
            "true label = 4\n",
            "pred label = 4\n",
            "true label = 3\n",
            "pred label = 3\n",
            "true label = 5\n",
            "pred label = 0\n",
            "true label = 3\n",
            "pred label = 3\n",
            "true label = 6\n",
            "pred label = 6\n",
            "true label = 1\n",
            "pred label = 1\n",
            "true label = 7\n",
            "pred label = 7\n",
            "true label = 2\n",
            "pred label = 2\n",
            "true label = 8\n",
            "pred label = 8\n",
            "true label = 6\n",
            "pred label = 6\n",
            "true label = 9\n",
            "pred label = 9\n"
          ],
          "name": "stdout"
        }
      ]
    },
    {
      "cell_type": "code",
      "metadata": {
        "id": "uA_Kxr34UXcD",
        "outputId": "810e66e5-e101-4a1f-bbe8-d75f5e58973e",
        "colab": {
          "base_uri": "https://localhost:8080/"
        }
      },
      "source": [
        "n=2000\n",
        "pred_output = np.ones([n,10])\n",
        "MNIST_value = []\n",
        "for j in range(n):\n",
        "    MNIST_value.append(applyneuralNet(MNIST_net, testing_imageN[j]))\n",
        "    pred_output[j] = MNIST_value[j][-1]\n",
        "\n",
        "print(np.round(pred_output))\n",
        "\n",
        "pred_output = np.round(pred_output)\n",
        "error = pred_output - testing_labelN_cat\n",
        "\n",
        "# print(error[:10])\n",
        "j=0\n",
        "for i in range(2000):\n",
        "    if np.sum(np.abs(error[i]))>0:\n",
        "       j=j+1\n",
        "print(j/n)"
      ],
      "execution_count": 37,
      "outputs": [
        {
          "output_type": "stream",
          "text": [
            "[[0. 0. 0. ... 0. 0. 0.]\n",
            " [0. 0. 0. ... 0. 1. 0.]\n",
            " [0. 0. 0. ... 1. 0. 0.]\n",
            " ...\n",
            " [0. 0. 1. ... 0. 0. 0.]\n",
            " [0. 0. 0. ... 0. 1. 0.]\n",
            " [0. 0. 0. ... 0. 0. 0.]]\n",
            "0.1475\n"
          ],
          "name": "stdout"
        }
      ]
    },
    {
      "cell_type": "code",
      "metadata": {
        "id": "j02wQgf8UXcE",
        "outputId": "06281d84-c2ae-4e85-b0b5-066fe7f1097e",
        "colab": {
          "base_uri": "https://localhost:8080/"
        }
      },
      "source": [
        "my_shape = [784,128,10]\n",
        "MNIST_net2 = generateNeuralNet(my_shape)\n",
        "N=5000\n",
        "\n",
        "print(traininglabel_N[:20])\n",
        "\n",
        "epoch = 3\n",
        "for k in range(epoch):\n",
        "    for i in range(N):\n",
        "        MNIST_net2 = trainNeuralNet(MNIST_net2, trainingData_N[i], traininglabel_N_cat[i], 10)"
      ],
      "execution_count": 47,
      "outputs": [
        {
          "output_type": "stream",
          "text": [
            "[5 0 4 1 9 2 1 3 1 4 3 5 3 6 1 7 2 8 6 9]\n"
          ],
          "name": "stdout"
        }
      ]
    },
    {
      "cell_type": "code",
      "metadata": {
        "id": "Z9b-KN9IUXcF",
        "outputId": "e6227272-3f1e-4623-aa3d-1419827ca810",
        "colab": {
          "base_uri": "https://localhost:8080/"
        }
      },
      "source": [
        "n=50\n",
        "pred_output = np.ones([n,10])\n",
        "\n",
        "MNIST_value = []\n",
        "for j in range(n):\n",
        "    MNIST_value.append(applyneuralNet(MNIST_net2, trainingData_N[j]))\n",
        "    pred_output[j] = MNIST_value[j][-1]\n",
        "    print('true label =', traininglabel_N[j])\n",
        "    print('pred label =',np.argmax(np.round(pred_output[j])))"
      ],
      "execution_count": 48,
      "outputs": [
        {
          "output_type": "stream",
          "text": [
            "true label = 5\n",
            "pred label = 0\n",
            "true label = 0\n",
            "pred label = 0\n",
            "true label = 4\n",
            "pred label = 4\n",
            "true label = 1\n",
            "pred label = 1\n",
            "true label = 9\n",
            "pred label = 9\n",
            "true label = 2\n",
            "pred label = 2\n",
            "true label = 1\n",
            "pred label = 1\n",
            "true label = 3\n",
            "pred label = 3\n",
            "true label = 1\n",
            "pred label = 1\n",
            "true label = 4\n",
            "pred label = 4\n",
            "true label = 3\n",
            "pred label = 3\n",
            "true label = 5\n",
            "pred label = 5\n",
            "true label = 3\n",
            "pred label = 3\n",
            "true label = 6\n",
            "pred label = 6\n",
            "true label = 1\n",
            "pred label = 1\n",
            "true label = 7\n",
            "pred label = 7\n",
            "true label = 2\n",
            "pred label = 2\n",
            "true label = 8\n",
            "pred label = 8\n",
            "true label = 6\n",
            "pred label = 0\n",
            "true label = 9\n",
            "pred label = 0\n",
            "true label = 4\n",
            "pred label = 4\n",
            "true label = 0\n",
            "pred label = 0\n",
            "true label = 9\n",
            "pred label = 0\n",
            "true label = 1\n",
            "pred label = 1\n",
            "true label = 1\n",
            "pred label = 0\n",
            "true label = 2\n",
            "pred label = 0\n",
            "true label = 4\n",
            "pred label = 4\n",
            "true label = 3\n",
            "pred label = 3\n",
            "true label = 2\n",
            "pred label = 0\n",
            "true label = 7\n",
            "pred label = 0\n",
            "true label = 3\n",
            "pred label = 0\n",
            "true label = 8\n",
            "pred label = 8\n",
            "true label = 6\n",
            "pred label = 6\n",
            "true label = 9\n",
            "pred label = 7\n",
            "true label = 0\n",
            "pred label = 0\n",
            "true label = 5\n",
            "pred label = 5\n",
            "true label = 6\n",
            "pred label = 6\n",
            "true label = 0\n",
            "pred label = 0\n",
            "true label = 7\n",
            "pred label = 7\n",
            "true label = 6\n",
            "pred label = 6\n",
            "true label = 1\n",
            "pred label = 1\n",
            "true label = 8\n",
            "pred label = 8\n",
            "true label = 7\n",
            "pred label = 7\n",
            "true label = 9\n",
            "pred label = 9\n",
            "true label = 3\n",
            "pred label = 0\n",
            "true label = 9\n",
            "pred label = 9\n",
            "true label = 8\n",
            "pred label = 8\n",
            "true label = 5\n",
            "pred label = 5\n",
            "true label = 9\n",
            "pred label = 0\n",
            "true label = 3\n",
            "pred label = 3\n"
          ],
          "name": "stdout"
        }
      ]
    },
    {
      "cell_type": "code",
      "metadata": {
        "colab": {
          "base_uri": "https://localhost:8080/"
        },
        "id": "_f7YH8vAz3oX",
        "outputId": "2c3499d1-b102-401d-e377-2daea414a75e"
      },
      "source": [
        "n=2000\n",
        "pred_output = np.ones([n,10])\n",
        "MNIST_value = []\n",
        "for j in range(n):\n",
        "    MNIST_value.append(applyneuralNet(MNIST_net2, testing_imageN[j]))\n",
        "    pred_output[j] = MNIST_value[j][-1]\n",
        "\n",
        "print(np.round(pred_output))\n",
        "\n",
        "pred_output = np.round(pred_output)\n",
        "error = pred_output - testing_labelN_cat[:n]\n",
        "\n",
        "# print(error[:10])\n",
        "j=0\n",
        "for i in range(2000):\n",
        "    if np.sum(np.abs(error[i]))>0:\n",
        "       j=j+1\n",
        "print(j/n)\n"
      ],
      "execution_count": 52,
      "outputs": [
        {
          "output_type": "stream",
          "text": [
            "[[0. 0. 0. ... 0. 0. 0.]\n",
            " [0. 0. 0. ... 0. 1. 0.]\n",
            " [0. 0. 0. ... 1. 0. 0.]\n",
            " ...\n",
            " [0. 0. 1. ... 0. 0. 0.]\n",
            " [0. 0. 0. ... 0. 1. 0.]\n",
            " [0. 0. 0. ... 0. 0. 0.]]\n",
            "0.2605\n"
          ],
          "name": "stdout"
        }
      ]
    },
    {
      "cell_type": "code",
      "metadata": {
        "id": "sz0lUZ2tUXcG"
      },
      "source": [
        ""
      ],
      "execution_count": null,
      "outputs": []
    }
  ]
}